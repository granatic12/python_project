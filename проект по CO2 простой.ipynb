{
 "cells": [
  {
   "cell_type": "code",
   "execution_count": 32,
   "id": "1c60535b",
   "metadata": {},
   "outputs": [],
   "source": [
    "# импортируем библиотеки\n",
    "import pandas as pd\n",
    "import matplotlib.pyplot as plt\n",
    "import seaborn as sns\n",
    "import numpy as np\n",
    "from scipy.stats import norm\n",
    "from scipy import stats as st"
   ]
  },
  {
   "cell_type": "markdown",
   "id": "be1e9080",
   "metadata": {},
   "source": [
    "Описания функций:\n",
    "\n",
    "Страна – рассматриваемая страна.\n",
    "\n",
    "Energy_type - Тип источника энергии\n",
    "\n",
    "Год — год записи данных.\n",
    "\n",
    "Energy_consumption — измеренное количество потребления для конкретного источника энергии (квадратные БТЕ)\n",
    "\n",
    "Energy_production — объем производства для конкретного источника энергии, измеренный (квадратные БТЕ)\n",
    "\n",
    "ВВП - ВВП стран по паритету покупательной способности, измеренный (млрд долларов США по ППС 2015 г.)\n",
    "\n",
    "Население — численность населения конкретной страны, измеренная (млн человек).\n",
    "\n",
    "Energy_intensity_per_capita — Энергоемкость является мерой энергетической неэффективности экономики. Он рассчитывается в единицах энергии на единицу населения (душа = отдельный человек), измеряется (МБТЕ/человек).\n",
    "\n",
    "Energy_intensity_by_GDP — Энергоемкость является мерой энергетической неэффективности экономики. Он рассчитывается как количество единиц энергии на единицу ВВП, измеренное (1000 БТЕ/доллар США 2015 года по ППС).\n",
    "\n",
    "CO2_emission — количество выброшенного CO2, измеренное (миллионы тонн CO2)"
   ]
  },
  {
   "cell_type": "code",
   "execution_count": 33,
   "id": "c1d17971",
   "metadata": {},
   "outputs": [
    {
     "data": {
      "text/html": [
       "<div>\n",
       "<style scoped>\n",
       "    .dataframe tbody tr th:only-of-type {\n",
       "        vertical-align: middle;\n",
       "    }\n",
       "\n",
       "    .dataframe tbody tr th {\n",
       "        vertical-align: top;\n",
       "    }\n",
       "\n",
       "    .dataframe thead th {\n",
       "        text-align: right;\n",
       "    }\n",
       "</style>\n",
       "<table border=\"1\" class=\"dataframe\">\n",
       "  <thead>\n",
       "    <tr style=\"text-align: right;\">\n",
       "      <th></th>\n",
       "      <th>Unnamed: 0</th>\n",
       "      <th>Country</th>\n",
       "      <th>Energy_type</th>\n",
       "      <th>Year</th>\n",
       "      <th>Energy_consumption</th>\n",
       "      <th>Energy_production</th>\n",
       "      <th>GDP</th>\n",
       "      <th>Population</th>\n",
       "      <th>Energy_intensity_per_capita</th>\n",
       "      <th>Energy_intensity_by_GDP</th>\n",
       "      <th>CO2_emission</th>\n",
       "    </tr>\n",
       "  </thead>\n",
       "  <tbody>\n",
       "    <tr>\n",
       "      <th>0</th>\n",
       "      <td>0</td>\n",
       "      <td>World</td>\n",
       "      <td>all_energy_types</td>\n",
       "      <td>1980</td>\n",
       "      <td>292.899790</td>\n",
       "      <td>296.337228</td>\n",
       "      <td>27770.910281</td>\n",
       "      <td>4.298127e+06</td>\n",
       "      <td>68.145921</td>\n",
       "      <td>10.547000</td>\n",
       "      <td>4946.627130</td>\n",
       "    </tr>\n",
       "    <tr>\n",
       "      <th>1</th>\n",
       "      <td>1</td>\n",
       "      <td>World</td>\n",
       "      <td>coal</td>\n",
       "      <td>1980</td>\n",
       "      <td>78.656134</td>\n",
       "      <td>80.114194</td>\n",
       "      <td>27770.910281</td>\n",
       "      <td>4.298127e+06</td>\n",
       "      <td>68.145921</td>\n",
       "      <td>10.547000</td>\n",
       "      <td>1409.790188</td>\n",
       "    </tr>\n",
       "    <tr>\n",
       "      <th>2</th>\n",
       "      <td>2</td>\n",
       "      <td>World</td>\n",
       "      <td>natural_gas</td>\n",
       "      <td>1980</td>\n",
       "      <td>53.865223</td>\n",
       "      <td>54.761046</td>\n",
       "      <td>27770.910281</td>\n",
       "      <td>4.298127e+06</td>\n",
       "      <td>68.145921</td>\n",
       "      <td>10.547000</td>\n",
       "      <td>1081.593377</td>\n",
       "    </tr>\n",
       "    <tr>\n",
       "      <th>3</th>\n",
       "      <td>3</td>\n",
       "      <td>World</td>\n",
       "      <td>petroleum_n_other_liquids</td>\n",
       "      <td>1980</td>\n",
       "      <td>132.064019</td>\n",
       "      <td>133.111109</td>\n",
       "      <td>27770.910281</td>\n",
       "      <td>4.298127e+06</td>\n",
       "      <td>68.145921</td>\n",
       "      <td>10.547000</td>\n",
       "      <td>2455.243565</td>\n",
       "    </tr>\n",
       "    <tr>\n",
       "      <th>4</th>\n",
       "      <td>4</td>\n",
       "      <td>World</td>\n",
       "      <td>nuclear</td>\n",
       "      <td>1980</td>\n",
       "      <td>7.575700</td>\n",
       "      <td>7.575700</td>\n",
       "      <td>27770.910281</td>\n",
       "      <td>4.298127e+06</td>\n",
       "      <td>68.145921</td>\n",
       "      <td>10.547000</td>\n",
       "      <td>0.000000</td>\n",
       "    </tr>\n",
       "    <tr>\n",
       "      <th>...</th>\n",
       "      <td>...</td>\n",
       "      <td>...</td>\n",
       "      <td>...</td>\n",
       "      <td>...</td>\n",
       "      <td>...</td>\n",
       "      <td>...</td>\n",
       "      <td>...</td>\n",
       "      <td>...</td>\n",
       "      <td>...</td>\n",
       "      <td>...</td>\n",
       "      <td>...</td>\n",
       "    </tr>\n",
       "    <tr>\n",
       "      <th>55435</th>\n",
       "      <td>55435</td>\n",
       "      <td>Zimbabwe</td>\n",
       "      <td>coal</td>\n",
       "      <td>2019</td>\n",
       "      <td>0.045064</td>\n",
       "      <td>0.075963</td>\n",
       "      <td>37.620400</td>\n",
       "      <td>1.465420e+04</td>\n",
       "      <td>11.508701</td>\n",
       "      <td>4.482962</td>\n",
       "      <td>4.586869</td>\n",
       "    </tr>\n",
       "    <tr>\n",
       "      <th>55436</th>\n",
       "      <td>55436</td>\n",
       "      <td>Zimbabwe</td>\n",
       "      <td>natural_gas</td>\n",
       "      <td>2019</td>\n",
       "      <td>0.000000</td>\n",
       "      <td>0.000000</td>\n",
       "      <td>37.620400</td>\n",
       "      <td>1.465420e+04</td>\n",
       "      <td>11.508701</td>\n",
       "      <td>4.482962</td>\n",
       "      <td>0.000000</td>\n",
       "    </tr>\n",
       "    <tr>\n",
       "      <th>55437</th>\n",
       "      <td>55437</td>\n",
       "      <td>Zimbabwe</td>\n",
       "      <td>petroleum_n_other_liquids</td>\n",
       "      <td>2019</td>\n",
       "      <td>0.055498</td>\n",
       "      <td>0.000000</td>\n",
       "      <td>37.620400</td>\n",
       "      <td>1.465420e+04</td>\n",
       "      <td>11.508701</td>\n",
       "      <td>4.482962</td>\n",
       "      <td>4.377890</td>\n",
       "    </tr>\n",
       "    <tr>\n",
       "      <th>55438</th>\n",
       "      <td>55438</td>\n",
       "      <td>Zimbabwe</td>\n",
       "      <td>nuclear</td>\n",
       "      <td>2019</td>\n",
       "      <td>NaN</td>\n",
       "      <td>NaN</td>\n",
       "      <td>37.620400</td>\n",
       "      <td>1.465420e+04</td>\n",
       "      <td>11.508701</td>\n",
       "      <td>4.482962</td>\n",
       "      <td>0.000000</td>\n",
       "    </tr>\n",
       "    <tr>\n",
       "      <th>55439</th>\n",
       "      <td>55439</td>\n",
       "      <td>Zimbabwe</td>\n",
       "      <td>renewables_n_other</td>\n",
       "      <td>2019</td>\n",
       "      <td>0.068089</td>\n",
       "      <td>0.067499</td>\n",
       "      <td>37.620400</td>\n",
       "      <td>1.465420e+04</td>\n",
       "      <td>11.508701</td>\n",
       "      <td>4.482962</td>\n",
       "      <td>0.000000</td>\n",
       "    </tr>\n",
       "  </tbody>\n",
       "</table>\n",
       "<p>55440 rows × 11 columns</p>\n",
       "</div>"
      ],
      "text/plain": [
       "       Unnamed: 0   Country                Energy_type  Year  \\\n",
       "0               0     World           all_energy_types  1980   \n",
       "1               1     World                       coal  1980   \n",
       "2               2     World                natural_gas  1980   \n",
       "3               3     World  petroleum_n_other_liquids  1980   \n",
       "4               4     World                    nuclear  1980   \n",
       "...           ...       ...                        ...   ...   \n",
       "55435       55435  Zimbabwe                       coal  2019   \n",
       "55436       55436  Zimbabwe                natural_gas  2019   \n",
       "55437       55437  Zimbabwe  petroleum_n_other_liquids  2019   \n",
       "55438       55438  Zimbabwe                    nuclear  2019   \n",
       "55439       55439  Zimbabwe         renewables_n_other  2019   \n",
       "\n",
       "       Energy_consumption  Energy_production           GDP    Population  \\\n",
       "0              292.899790         296.337228  27770.910281  4.298127e+06   \n",
       "1               78.656134          80.114194  27770.910281  4.298127e+06   \n",
       "2               53.865223          54.761046  27770.910281  4.298127e+06   \n",
       "3              132.064019         133.111109  27770.910281  4.298127e+06   \n",
       "4                7.575700           7.575700  27770.910281  4.298127e+06   \n",
       "...                   ...                ...           ...           ...   \n",
       "55435            0.045064           0.075963     37.620400  1.465420e+04   \n",
       "55436            0.000000           0.000000     37.620400  1.465420e+04   \n",
       "55437            0.055498           0.000000     37.620400  1.465420e+04   \n",
       "55438                 NaN                NaN     37.620400  1.465420e+04   \n",
       "55439            0.068089           0.067499     37.620400  1.465420e+04   \n",
       "\n",
       "       Energy_intensity_per_capita  Energy_intensity_by_GDP  CO2_emission  \n",
       "0                        68.145921                10.547000   4946.627130  \n",
       "1                        68.145921                10.547000   1409.790188  \n",
       "2                        68.145921                10.547000   1081.593377  \n",
       "3                        68.145921                10.547000   2455.243565  \n",
       "4                        68.145921                10.547000      0.000000  \n",
       "...                            ...                      ...           ...  \n",
       "55435                    11.508701                 4.482962      4.586869  \n",
       "55436                    11.508701                 4.482962      0.000000  \n",
       "55437                    11.508701                 4.482962      4.377890  \n",
       "55438                    11.508701                 4.482962      0.000000  \n",
       "55439                    11.508701                 4.482962      0.000000  \n",
       "\n",
       "[55440 rows x 11 columns]"
      ]
     },
     "execution_count": 33,
     "metadata": {},
     "output_type": "execute_result"
    }
   ],
   "source": [
    "df = pd.read_csv('energy.csv')\n",
    "df"
   ]
  },
  {
   "cell_type": "code",
   "execution_count": 34,
   "id": "5b28c60b",
   "metadata": {},
   "outputs": [
    {
     "name": "stdout",
     "output_type": "stream",
     "text": [
      "<class 'pandas.core.frame.DataFrame'>\n",
      "RangeIndex: 55440 entries, 0 to 55439\n",
      "Data columns (total 11 columns):\n",
      " #   Column                       Non-Null Count  Dtype  \n",
      "---  ------                       --------------  -----  \n",
      " 0   Unnamed: 0                   55440 non-null  int64  \n",
      " 1   Country                      55440 non-null  object \n",
      " 2   Energy_type                  55440 non-null  object \n",
      " 3   Year                         55440 non-null  int64  \n",
      " 4   Energy_consumption           44287 non-null  float64\n",
      " 5   Energy_production            44289 non-null  float64\n",
      " 6   GDP                          40026 non-null  float64\n",
      " 7   Population                   46014 non-null  float64\n",
      " 8   Energy_intensity_per_capita  50358 non-null  float64\n",
      " 9   Energy_intensity_by_GDP      50358 non-null  float64\n",
      " 10  CO2_emission                 51614 non-null  float64\n",
      "dtypes: float64(7), int64(2), object(2)\n",
      "memory usage: 4.7+ MB\n"
     ]
    }
   ],
   "source": [
    "df.info()"
   ]
  },
  {
   "cell_type": "code",
   "execution_count": 35,
   "id": "00921fcb",
   "metadata": {},
   "outputs": [],
   "source": [
    "df.columns = df.columns.str.lower()"
   ]
  },
  {
   "cell_type": "code",
   "execution_count": 36,
   "id": "a0368e6c",
   "metadata": {},
   "outputs": [
    {
     "data": {
      "text/html": [
       "<div>\n",
       "<style scoped>\n",
       "    .dataframe tbody tr th:only-of-type {\n",
       "        vertical-align: middle;\n",
       "    }\n",
       "\n",
       "    .dataframe tbody tr th {\n",
       "        vertical-align: top;\n",
       "    }\n",
       "\n",
       "    .dataframe thead th {\n",
       "        text-align: right;\n",
       "    }\n",
       "</style>\n",
       "<table border=\"1\" class=\"dataframe\">\n",
       "  <thead>\n",
       "    <tr style=\"text-align: right;\">\n",
       "      <th></th>\n",
       "      <th>unnamed: 0</th>\n",
       "      <th>country</th>\n",
       "      <th>energy_type</th>\n",
       "      <th>year</th>\n",
       "      <th>energy_consumption</th>\n",
       "      <th>energy_production</th>\n",
       "      <th>gdp</th>\n",
       "      <th>population</th>\n",
       "      <th>energy_intensity_per_capita</th>\n",
       "      <th>energy_intensity_by_gdp</th>\n",
       "      <th>co2_emission</th>\n",
       "    </tr>\n",
       "  </thead>\n",
       "  <tbody>\n",
       "    <tr>\n",
       "      <th>54060</th>\n",
       "      <td>54060</td>\n",
       "      <td>Afghanistan</td>\n",
       "      <td>all_energy_types</td>\n",
       "      <td>2019</td>\n",
       "      <td>0.122748</td>\n",
       "      <td>0.055210</td>\n",
       "      <td>79.4546</td>\n",
       "      <td>38050.9</td>\n",
       "      <td>3.225901</td>\n",
       "      <td>1.544888</td>\n",
       "      <td>9.391163</td>\n",
       "    </tr>\n",
       "    <tr>\n",
       "      <th>54061</th>\n",
       "      <td>54061</td>\n",
       "      <td>Afghanistan</td>\n",
       "      <td>coal</td>\n",
       "      <td>2019</td>\n",
       "      <td>0.044564</td>\n",
       "      <td>0.042336</td>\n",
       "      <td>79.4546</td>\n",
       "      <td>38050.9</td>\n",
       "      <td>3.225901</td>\n",
       "      <td>1.544888</td>\n",
       "      <td>4.752619</td>\n",
       "    </tr>\n",
       "    <tr>\n",
       "      <th>54062</th>\n",
       "      <td>54062</td>\n",
       "      <td>Afghanistan</td>\n",
       "      <td>natural_gas</td>\n",
       "      <td>2019</td>\n",
       "      <td>0.005039</td>\n",
       "      <td>0.005039</td>\n",
       "      <td>79.4546</td>\n",
       "      <td>38050.9</td>\n",
       "      <td>3.225901</td>\n",
       "      <td>1.544888</td>\n",
       "      <td>0.318252</td>\n",
       "    </tr>\n",
       "    <tr>\n",
       "      <th>54063</th>\n",
       "      <td>54063</td>\n",
       "      <td>Afghanistan</td>\n",
       "      <td>petroleum_n_other_liquids</td>\n",
       "      <td>2019</td>\n",
       "      <td>0.048550</td>\n",
       "      <td>0.000000</td>\n",
       "      <td>79.4546</td>\n",
       "      <td>38050.9</td>\n",
       "      <td>3.225901</td>\n",
       "      <td>1.544888</td>\n",
       "      <td>4.320292</td>\n",
       "    </tr>\n",
       "    <tr>\n",
       "      <th>54064</th>\n",
       "      <td>54064</td>\n",
       "      <td>Afghanistan</td>\n",
       "      <td>nuclear</td>\n",
       "      <td>2019</td>\n",
       "      <td>NaN</td>\n",
       "      <td>NaN</td>\n",
       "      <td>79.4546</td>\n",
       "      <td>38050.9</td>\n",
       "      <td>3.225901</td>\n",
       "      <td>1.544888</td>\n",
       "      <td>0.000000</td>\n",
       "    </tr>\n",
       "    <tr>\n",
       "      <th>...</th>\n",
       "      <td>...</td>\n",
       "      <td>...</td>\n",
       "      <td>...</td>\n",
       "      <td>...</td>\n",
       "      <td>...</td>\n",
       "      <td>...</td>\n",
       "      <td>...</td>\n",
       "      <td>...</td>\n",
       "      <td>...</td>\n",
       "      <td>...</td>\n",
       "      <td>...</td>\n",
       "    </tr>\n",
       "    <tr>\n",
       "      <th>55435</th>\n",
       "      <td>55435</td>\n",
       "      <td>Zimbabwe</td>\n",
       "      <td>coal</td>\n",
       "      <td>2019</td>\n",
       "      <td>0.045064</td>\n",
       "      <td>0.075963</td>\n",
       "      <td>37.6204</td>\n",
       "      <td>14654.2</td>\n",
       "      <td>11.508701</td>\n",
       "      <td>4.482962</td>\n",
       "      <td>4.586869</td>\n",
       "    </tr>\n",
       "    <tr>\n",
       "      <th>55436</th>\n",
       "      <td>55436</td>\n",
       "      <td>Zimbabwe</td>\n",
       "      <td>natural_gas</td>\n",
       "      <td>2019</td>\n",
       "      <td>0.000000</td>\n",
       "      <td>0.000000</td>\n",
       "      <td>37.6204</td>\n",
       "      <td>14654.2</td>\n",
       "      <td>11.508701</td>\n",
       "      <td>4.482962</td>\n",
       "      <td>0.000000</td>\n",
       "    </tr>\n",
       "    <tr>\n",
       "      <th>55437</th>\n",
       "      <td>55437</td>\n",
       "      <td>Zimbabwe</td>\n",
       "      <td>petroleum_n_other_liquids</td>\n",
       "      <td>2019</td>\n",
       "      <td>0.055498</td>\n",
       "      <td>0.000000</td>\n",
       "      <td>37.6204</td>\n",
       "      <td>14654.2</td>\n",
       "      <td>11.508701</td>\n",
       "      <td>4.482962</td>\n",
       "      <td>4.377890</td>\n",
       "    </tr>\n",
       "    <tr>\n",
       "      <th>55438</th>\n",
       "      <td>55438</td>\n",
       "      <td>Zimbabwe</td>\n",
       "      <td>nuclear</td>\n",
       "      <td>2019</td>\n",
       "      <td>NaN</td>\n",
       "      <td>NaN</td>\n",
       "      <td>37.6204</td>\n",
       "      <td>14654.2</td>\n",
       "      <td>11.508701</td>\n",
       "      <td>4.482962</td>\n",
       "      <td>0.000000</td>\n",
       "    </tr>\n",
       "    <tr>\n",
       "      <th>55439</th>\n",
       "      <td>55439</td>\n",
       "      <td>Zimbabwe</td>\n",
       "      <td>renewables_n_other</td>\n",
       "      <td>2019</td>\n",
       "      <td>0.068089</td>\n",
       "      <td>0.067499</td>\n",
       "      <td>37.6204</td>\n",
       "      <td>14654.2</td>\n",
       "      <td>11.508701</td>\n",
       "      <td>4.482962</td>\n",
       "      <td>0.000000</td>\n",
       "    </tr>\n",
       "  </tbody>\n",
       "</table>\n",
       "<p>1380 rows × 11 columns</p>\n",
       "</div>"
      ],
      "text/plain": [
       "       unnamed: 0      country                energy_type  year  \\\n",
       "54060       54060  Afghanistan           all_energy_types  2019   \n",
       "54061       54061  Afghanistan                       coal  2019   \n",
       "54062       54062  Afghanistan                natural_gas  2019   \n",
       "54063       54063  Afghanistan  petroleum_n_other_liquids  2019   \n",
       "54064       54064  Afghanistan                    nuclear  2019   \n",
       "...           ...          ...                        ...   ...   \n",
       "55435       55435     Zimbabwe                       coal  2019   \n",
       "55436       55436     Zimbabwe                natural_gas  2019   \n",
       "55437       55437     Zimbabwe  petroleum_n_other_liquids  2019   \n",
       "55438       55438     Zimbabwe                    nuclear  2019   \n",
       "55439       55439     Zimbabwe         renewables_n_other  2019   \n",
       "\n",
       "       energy_consumption  energy_production      gdp  population  \\\n",
       "54060            0.122748           0.055210  79.4546     38050.9   \n",
       "54061            0.044564           0.042336  79.4546     38050.9   \n",
       "54062            0.005039           0.005039  79.4546     38050.9   \n",
       "54063            0.048550           0.000000  79.4546     38050.9   \n",
       "54064                 NaN                NaN  79.4546     38050.9   \n",
       "...                   ...                ...      ...         ...   \n",
       "55435            0.045064           0.075963  37.6204     14654.2   \n",
       "55436            0.000000           0.000000  37.6204     14654.2   \n",
       "55437            0.055498           0.000000  37.6204     14654.2   \n",
       "55438                 NaN                NaN  37.6204     14654.2   \n",
       "55439            0.068089           0.067499  37.6204     14654.2   \n",
       "\n",
       "       energy_intensity_per_capita  energy_intensity_by_gdp  co2_emission  \n",
       "54060                     3.225901                 1.544888      9.391163  \n",
       "54061                     3.225901                 1.544888      4.752619  \n",
       "54062                     3.225901                 1.544888      0.318252  \n",
       "54063                     3.225901                 1.544888      4.320292  \n",
       "54064                     3.225901                 1.544888      0.000000  \n",
       "...                            ...                      ...           ...  \n",
       "55435                    11.508701                 4.482962      4.586869  \n",
       "55436                    11.508701                 4.482962      0.000000  \n",
       "55437                    11.508701                 4.482962      4.377890  \n",
       "55438                    11.508701                 4.482962      0.000000  \n",
       "55439                    11.508701                 4.482962      0.000000  \n",
       "\n",
       "[1380 rows x 11 columns]"
      ]
     },
     "execution_count": 36,
     "metadata": {},
     "output_type": "execute_result"
    }
   ],
   "source": [
    "df = df.loc[df['year'] == 2019]\n",
    "df = df.loc[df['country'] != 'World']\n",
    "df"
   ]
  },
  {
   "cell_type": "markdown",
   "id": "949444c8",
   "metadata": {},
   "source": [
    "Возьмем только данные за 2019 год и исключим общую информацию по миру из рассмотрения, так как она будет искажать уравнение"
   ]
  },
  {
   "cell_type": "code",
   "execution_count": 37,
   "id": "a7b3d87f",
   "metadata": {},
   "outputs": [
    {
     "data": {
      "text/plain": [
       "unnamed: 0                     0\n",
       "country                        0\n",
       "energy_type                    0\n",
       "year                           0\n",
       "energy_consumption             0\n",
       "energy_production              0\n",
       "gdp                            0\n",
       "population                     0\n",
       "energy_intensity_per_capita    0\n",
       "energy_intensity_by_gdp        0\n",
       "co2_emission                   0\n",
       "dtype: int64"
      ]
     },
     "execution_count": 37,
     "metadata": {},
     "output_type": "execute_result"
    }
   ],
   "source": [
    "df[df.duplicated()].count()"
   ]
  },
  {
   "cell_type": "markdown",
   "id": "e2b6c2c8",
   "metadata": {},
   "source": [
    "Дубликатов в данных нет"
   ]
  },
  {
   "cell_type": "code",
   "execution_count": 38,
   "id": "9747785e",
   "metadata": {},
   "outputs": [
    {
     "data": {
      "text/plain": [
       "unnamed: 0                       0\n",
       "country                          0\n",
       "energy_type                      0\n",
       "year                             0\n",
       "energy_consumption             235\n",
       "energy_production              233\n",
       "gdp                            180\n",
       "population                     162\n",
       "energy_intensity_per_capita     72\n",
       "energy_intensity_by_gdp         72\n",
       "co2_emission                    32\n",
       "dtype: int64"
      ]
     },
     "execution_count": 38,
     "metadata": {},
     "output_type": "execute_result"
    }
   ],
   "source": [
    "df.isnull().sum()"
   ]
  },
  {
   "cell_type": "markdown",
   "id": "fae82ae8",
   "metadata": {},
   "source": [
    "Есть пропущенные значения в данных. Пропущенные значения по столбцам Energy_consumption и Energy_production можно объяснить тем, что страна либо вообще не производит определенный вид энергии, либо же его не потребляет. В таком случае заменим пропущенные значения на 0"
   ]
  },
  {
   "cell_type": "code",
   "execution_count": 39,
   "id": "779f7692",
   "metadata": {},
   "outputs": [],
   "source": [
    "df['energy_consumption'] = df['energy_consumption'].fillna(0)\n",
    "df['energy_production'] = df['energy_production'].fillna(0)"
   ]
  },
  {
   "cell_type": "code",
   "execution_count": 40,
   "id": "9a4f0b1c",
   "metadata": {},
   "outputs": [
    {
     "data": {
      "text/plain": [
       "230"
      ]
     },
     "execution_count": 40,
     "metadata": {},
     "output_type": "execute_result"
    }
   ],
   "source": [
    "df['country'].nunique()"
   ]
  },
  {
   "cell_type": "markdown",
   "id": "6a2bec50",
   "metadata": {},
   "source": [
    "Всего в данных 230 стран"
   ]
  },
  {
   "cell_type": "code",
   "execution_count": 41,
   "id": "eb7b5382",
   "metadata": {},
   "outputs": [
    {
     "data": {
      "text/plain": [
       "array(['American Samoa', 'Antarctica', 'Cook Islands', 'Falkland Islands',\n",
       "       'Faroe Islands', 'Former Czechoslovakia',\n",
       "       'Former Serbia and Montenegro', 'Former U.S.S.R.',\n",
       "       'Former Yugoslavia', 'French Guiana', 'French Polynesia',\n",
       "       'Germany, East', 'Germany, West', 'Gibraltar', 'Guam',\n",
       "       'Hawaiian Trade Zone', 'Micronesia', 'Montserrat', 'Nauru',\n",
       "       'New Caledonia', 'Niue', 'Northern Mariana Islands',\n",
       "       'Saint Helena', 'Saint Pierre and Miquelon',\n",
       "       'Turks and Caicos Islands', 'Tuvalu', 'U.S. Pacific Islands',\n",
       "       'U.S. Territories', 'Wake Island', 'Western Sahara'], dtype=object)"
      ]
     },
     "execution_count": 41,
     "metadata": {},
     "output_type": "execute_result"
    }
   ],
   "source": [
    "df_1 = df.loc[df['gdp'].isnull() == True] \n",
    "df_1['country'].unique()"
   ]
  },
  {
   "cell_type": "markdown",
   "id": "1bc1146b",
   "metadata": {},
   "source": [
    "Проверим, у каких стран отсутствуют данные ВВП, численности населения (у 30 стран нет данных по ВВП и у 27 стран нет данных по численности населения)"
   ]
  },
  {
   "cell_type": "code",
   "execution_count": 42,
   "id": "2bd74a84",
   "metadata": {},
   "outputs": [
    {
     "data": {
      "text/plain": [
       "array(['Antarctica', 'Cook Islands', 'Falkland Islands', 'Faroe Islands',\n",
       "       'Former Czechoslovakia', 'Former Serbia and Montenegro',\n",
       "       'Former U.S.S.R.', 'Former Yugoslavia', 'French Guiana',\n",
       "       'French Polynesia', 'Germany, East', 'Germany, West', 'Gibraltar',\n",
       "       'Hawaiian Trade Zone', 'Micronesia', 'Montserrat', 'Nauru',\n",
       "       'New Caledonia', 'Niue', 'Saint Helena',\n",
       "       'Saint Pierre and Miquelon', 'Turks and Caicos Islands', 'Tuvalu',\n",
       "       'U.S. Pacific Islands', 'U.S. Territories', 'Wake Island',\n",
       "       'Western Sahara'], dtype=object)"
      ]
     },
     "execution_count": 42,
     "metadata": {},
     "output_type": "execute_result"
    }
   ],
   "source": [
    "df_1 = df.loc[df['population'].isnull() == True] \n",
    "df_1['country'].unique()"
   ]
  },
  {
   "cell_type": "markdown",
   "id": "96a2d761",
   "metadata": {},
   "source": [
    "Заметно, что в обоих случаях список стран очень похож, значит просто в данном датасете отсутсвуют даннные по этим странам по ВВП и численности населения, удалим их из рассмотрения"
   ]
  },
  {
   "cell_type": "code",
   "execution_count": 43,
   "id": "81bd9bfd",
   "metadata": {},
   "outputs": [],
   "source": [
    "df = df.dropna()"
   ]
  },
  {
   "cell_type": "code",
   "execution_count": 44,
   "id": "9a90619e",
   "metadata": {},
   "outputs": [
    {
     "data": {
      "text/plain": [
       "unnamed: 0                     0\n",
       "country                        0\n",
       "energy_type                    0\n",
       "year                           0\n",
       "energy_consumption             0\n",
       "energy_production              0\n",
       "gdp                            0\n",
       "population                     0\n",
       "energy_intensity_per_capita    0\n",
       "energy_intensity_by_gdp        0\n",
       "co2_emission                   0\n",
       "dtype: int64"
      ]
     },
     "execution_count": 44,
     "metadata": {},
     "output_type": "execute_result"
    }
   ],
   "source": [
    "df.isnull().sum()"
   ]
  },
  {
   "cell_type": "code",
   "execution_count": 45,
   "id": "7443c00e",
   "metadata": {},
   "outputs": [
    {
     "data": {
      "text/html": [
       "<div>\n",
       "<style scoped>\n",
       "    .dataframe tbody tr th:only-of-type {\n",
       "        vertical-align: middle;\n",
       "    }\n",
       "\n",
       "    .dataframe tbody tr th {\n",
       "        vertical-align: top;\n",
       "    }\n",
       "\n",
       "    .dataframe thead th {\n",
       "        text-align: right;\n",
       "    }\n",
       "</style>\n",
       "<table border=\"1\" class=\"dataframe\">\n",
       "  <thead>\n",
       "    <tr style=\"text-align: right;\">\n",
       "      <th></th>\n",
       "      <th>unnamed: 0</th>\n",
       "      <th>country</th>\n",
       "      <th>energy_type</th>\n",
       "      <th>year</th>\n",
       "      <th>energy_consumption</th>\n",
       "      <th>energy_production</th>\n",
       "      <th>gdp</th>\n",
       "      <th>population</th>\n",
       "      <th>energy_intensity_per_capita</th>\n",
       "      <th>energy_intensity_by_gdp</th>\n",
       "      <th>co2_emission</th>\n",
       "    </tr>\n",
       "  </thead>\n",
       "  <tbody>\n",
       "    <tr>\n",
       "      <th>54060</th>\n",
       "      <td>54060</td>\n",
       "      <td>Afghanistan</td>\n",
       "      <td>all_energy_types</td>\n",
       "      <td>2019</td>\n",
       "      <td>0.122748</td>\n",
       "      <td>0.055210</td>\n",
       "      <td>79.4546</td>\n",
       "      <td>38050.9</td>\n",
       "      <td>3.225901</td>\n",
       "      <td>1.544888</td>\n",
       "      <td>9.391163</td>\n",
       "    </tr>\n",
       "    <tr>\n",
       "      <th>54061</th>\n",
       "      <td>54061</td>\n",
       "      <td>Afghanistan</td>\n",
       "      <td>coal</td>\n",
       "      <td>2019</td>\n",
       "      <td>0.044564</td>\n",
       "      <td>0.042336</td>\n",
       "      <td>79.4546</td>\n",
       "      <td>38050.9</td>\n",
       "      <td>3.225901</td>\n",
       "      <td>1.544888</td>\n",
       "      <td>4.752619</td>\n",
       "    </tr>\n",
       "    <tr>\n",
       "      <th>54062</th>\n",
       "      <td>54062</td>\n",
       "      <td>Afghanistan</td>\n",
       "      <td>natural_gas</td>\n",
       "      <td>2019</td>\n",
       "      <td>0.005039</td>\n",
       "      <td>0.005039</td>\n",
       "      <td>79.4546</td>\n",
       "      <td>38050.9</td>\n",
       "      <td>3.225901</td>\n",
       "      <td>1.544888</td>\n",
       "      <td>0.318252</td>\n",
       "    </tr>\n",
       "    <tr>\n",
       "      <th>54063</th>\n",
       "      <td>54063</td>\n",
       "      <td>Afghanistan</td>\n",
       "      <td>petroleum_n_other_liquids</td>\n",
       "      <td>2019</td>\n",
       "      <td>0.048550</td>\n",
       "      <td>0.000000</td>\n",
       "      <td>79.4546</td>\n",
       "      <td>38050.9</td>\n",
       "      <td>3.225901</td>\n",
       "      <td>1.544888</td>\n",
       "      <td>4.320292</td>\n",
       "    </tr>\n",
       "    <tr>\n",
       "      <th>54064</th>\n",
       "      <td>54064</td>\n",
       "      <td>Afghanistan</td>\n",
       "      <td>nuclear</td>\n",
       "      <td>2019</td>\n",
       "      <td>0.000000</td>\n",
       "      <td>0.000000</td>\n",
       "      <td>79.4546</td>\n",
       "      <td>38050.9</td>\n",
       "      <td>3.225901</td>\n",
       "      <td>1.544888</td>\n",
       "      <td>0.000000</td>\n",
       "    </tr>\n",
       "    <tr>\n",
       "      <th>...</th>\n",
       "      <td>...</td>\n",
       "      <td>...</td>\n",
       "      <td>...</td>\n",
       "      <td>...</td>\n",
       "      <td>...</td>\n",
       "      <td>...</td>\n",
       "      <td>...</td>\n",
       "      <td>...</td>\n",
       "      <td>...</td>\n",
       "      <td>...</td>\n",
       "      <td>...</td>\n",
       "    </tr>\n",
       "    <tr>\n",
       "      <th>55435</th>\n",
       "      <td>55435</td>\n",
       "      <td>Zimbabwe</td>\n",
       "      <td>coal</td>\n",
       "      <td>2019</td>\n",
       "      <td>0.045064</td>\n",
       "      <td>0.075963</td>\n",
       "      <td>37.6204</td>\n",
       "      <td>14654.2</td>\n",
       "      <td>11.508701</td>\n",
       "      <td>4.482962</td>\n",
       "      <td>4.586869</td>\n",
       "    </tr>\n",
       "    <tr>\n",
       "      <th>55436</th>\n",
       "      <td>55436</td>\n",
       "      <td>Zimbabwe</td>\n",
       "      <td>natural_gas</td>\n",
       "      <td>2019</td>\n",
       "      <td>0.000000</td>\n",
       "      <td>0.000000</td>\n",
       "      <td>37.6204</td>\n",
       "      <td>14654.2</td>\n",
       "      <td>11.508701</td>\n",
       "      <td>4.482962</td>\n",
       "      <td>0.000000</td>\n",
       "    </tr>\n",
       "    <tr>\n",
       "      <th>55437</th>\n",
       "      <td>55437</td>\n",
       "      <td>Zimbabwe</td>\n",
       "      <td>petroleum_n_other_liquids</td>\n",
       "      <td>2019</td>\n",
       "      <td>0.055498</td>\n",
       "      <td>0.000000</td>\n",
       "      <td>37.6204</td>\n",
       "      <td>14654.2</td>\n",
       "      <td>11.508701</td>\n",
       "      <td>4.482962</td>\n",
       "      <td>4.377890</td>\n",
       "    </tr>\n",
       "    <tr>\n",
       "      <th>55438</th>\n",
       "      <td>55438</td>\n",
       "      <td>Zimbabwe</td>\n",
       "      <td>nuclear</td>\n",
       "      <td>2019</td>\n",
       "      <td>0.000000</td>\n",
       "      <td>0.000000</td>\n",
       "      <td>37.6204</td>\n",
       "      <td>14654.2</td>\n",
       "      <td>11.508701</td>\n",
       "      <td>4.482962</td>\n",
       "      <td>0.000000</td>\n",
       "    </tr>\n",
       "    <tr>\n",
       "      <th>55439</th>\n",
       "      <td>55439</td>\n",
       "      <td>Zimbabwe</td>\n",
       "      <td>renewables_n_other</td>\n",
       "      <td>2019</td>\n",
       "      <td>0.068089</td>\n",
       "      <td>0.067499</td>\n",
       "      <td>37.6204</td>\n",
       "      <td>14654.2</td>\n",
       "      <td>11.508701</td>\n",
       "      <td>4.482962</td>\n",
       "      <td>0.000000</td>\n",
       "    </tr>\n",
       "  </tbody>\n",
       "</table>\n",
       "<p>1170 rows × 11 columns</p>\n",
       "</div>"
      ],
      "text/plain": [
       "       unnamed: 0      country                energy_type  year  \\\n",
       "54060       54060  Afghanistan           all_energy_types  2019   \n",
       "54061       54061  Afghanistan                       coal  2019   \n",
       "54062       54062  Afghanistan                natural_gas  2019   \n",
       "54063       54063  Afghanistan  petroleum_n_other_liquids  2019   \n",
       "54064       54064  Afghanistan                    nuclear  2019   \n",
       "...           ...          ...                        ...   ...   \n",
       "55435       55435     Zimbabwe                       coal  2019   \n",
       "55436       55436     Zimbabwe                natural_gas  2019   \n",
       "55437       55437     Zimbabwe  petroleum_n_other_liquids  2019   \n",
       "55438       55438     Zimbabwe                    nuclear  2019   \n",
       "55439       55439     Zimbabwe         renewables_n_other  2019   \n",
       "\n",
       "       energy_consumption  energy_production      gdp  population  \\\n",
       "54060            0.122748           0.055210  79.4546     38050.9   \n",
       "54061            0.044564           0.042336  79.4546     38050.9   \n",
       "54062            0.005039           0.005039  79.4546     38050.9   \n",
       "54063            0.048550           0.000000  79.4546     38050.9   \n",
       "54064            0.000000           0.000000  79.4546     38050.9   \n",
       "...                   ...                ...      ...         ...   \n",
       "55435            0.045064           0.075963  37.6204     14654.2   \n",
       "55436            0.000000           0.000000  37.6204     14654.2   \n",
       "55437            0.055498           0.000000  37.6204     14654.2   \n",
       "55438            0.000000           0.000000  37.6204     14654.2   \n",
       "55439            0.068089           0.067499  37.6204     14654.2   \n",
       "\n",
       "       energy_intensity_per_capita  energy_intensity_by_gdp  co2_emission  \n",
       "54060                     3.225901                 1.544888      9.391163  \n",
       "54061                     3.225901                 1.544888      4.752619  \n",
       "54062                     3.225901                 1.544888      0.318252  \n",
       "54063                     3.225901                 1.544888      4.320292  \n",
       "54064                     3.225901                 1.544888      0.000000  \n",
       "...                            ...                      ...           ...  \n",
       "55435                    11.508701                 4.482962      4.586869  \n",
       "55436                    11.508701                 4.482962      0.000000  \n",
       "55437                    11.508701                 4.482962      4.377890  \n",
       "55438                    11.508701                 4.482962      0.000000  \n",
       "55439                    11.508701                 4.482962      0.000000  \n",
       "\n",
       "[1170 rows x 11 columns]"
      ]
     },
     "execution_count": 45,
     "metadata": {},
     "output_type": "execute_result"
    }
   ],
   "source": [
    "df"
   ]
  },
  {
   "cell_type": "markdown",
   "id": "d059a3dd",
   "metadata": {},
   "source": [
    "В результате предобработки данных и рассмотрении только 2019 года осталось 1170 наблюдений"
   ]
  },
  {
   "cell_type": "code",
   "execution_count": 46,
   "id": "ec2a8b2b",
   "metadata": {},
   "outputs": [
    {
     "data": {
      "text/plain": [
       "array(['all_energy_types', 'coal', 'natural_gas',\n",
       "       'petroleum_n_other_liquids', 'nuclear', 'renewables_n_other'],\n",
       "      dtype=object)"
      ]
     },
     "execution_count": 46,
     "metadata": {},
     "output_type": "execute_result"
    }
   ],
   "source": [
    "df['energy_type'].unique()"
   ]
  },
  {
   "cell_type": "markdown",
   "id": "5e88f002",
   "metadata": {},
   "source": [
    "Всего данные дают информацию о 5 видах энергии, но так как цель работы - рассмотреть влияние определенного ресурса на выброс CO2, возьмем в качестве источника энергии уголь"
   ]
  },
  {
   "cell_type": "code",
   "execution_count": 47,
   "id": "3b3ce3fd",
   "metadata": {},
   "outputs": [
    {
     "data": {
      "text/html": [
       "<div>\n",
       "<style scoped>\n",
       "    .dataframe tbody tr th:only-of-type {\n",
       "        vertical-align: middle;\n",
       "    }\n",
       "\n",
       "    .dataframe tbody tr th {\n",
       "        vertical-align: top;\n",
       "    }\n",
       "\n",
       "    .dataframe thead th {\n",
       "        text-align: right;\n",
       "    }\n",
       "</style>\n",
       "<table border=\"1\" class=\"dataframe\">\n",
       "  <thead>\n",
       "    <tr style=\"text-align: right;\">\n",
       "      <th></th>\n",
       "      <th>unnamed: 0</th>\n",
       "      <th>country</th>\n",
       "      <th>energy_type</th>\n",
       "      <th>year</th>\n",
       "      <th>energy_consumption</th>\n",
       "      <th>energy_production</th>\n",
       "      <th>gdp</th>\n",
       "      <th>population</th>\n",
       "      <th>energy_intensity_per_capita</th>\n",
       "      <th>energy_intensity_by_gdp</th>\n",
       "      <th>co2_emission</th>\n",
       "    </tr>\n",
       "  </thead>\n",
       "  <tbody>\n",
       "    <tr>\n",
       "      <th>54061</th>\n",
       "      <td>54061</td>\n",
       "      <td>Afghanistan</td>\n",
       "      <td>coal</td>\n",
       "      <td>2019</td>\n",
       "      <td>0.044564</td>\n",
       "      <td>0.042336</td>\n",
       "      <td>79.45460</td>\n",
       "      <td>38050.9000</td>\n",
       "      <td>3.225901</td>\n",
       "      <td>1.544888</td>\n",
       "      <td>4.752619</td>\n",
       "    </tr>\n",
       "    <tr>\n",
       "      <th>54067</th>\n",
       "      <td>54067</td>\n",
       "      <td>Albania</td>\n",
       "      <td>coal</td>\n",
       "      <td>2019</td>\n",
       "      <td>0.002494</td>\n",
       "      <td>0.000089</td>\n",
       "      <td>38.26840</td>\n",
       "      <td>2879.9200</td>\n",
       "      <td>38.455319</td>\n",
       "      <td>2.893987</td>\n",
       "      <td>0.204336</td>\n",
       "    </tr>\n",
       "    <tr>\n",
       "      <th>54073</th>\n",
       "      <td>54073</td>\n",
       "      <td>Algeria</td>\n",
       "      <td>coal</td>\n",
       "      <td>2019</td>\n",
       "      <td>0.000405</td>\n",
       "      <td>0.000000</td>\n",
       "      <td>509.06600</td>\n",
       "      <td>43030.4000</td>\n",
       "      <td>61.433374</td>\n",
       "      <td>5.192849</td>\n",
       "      <td>0.232647</td>\n",
       "    </tr>\n",
       "    <tr>\n",
       "      <th>54085</th>\n",
       "      <td>54085</td>\n",
       "      <td>Angola</td>\n",
       "      <td>coal</td>\n",
       "      <td>2019</td>\n",
       "      <td>0.000000</td>\n",
       "      <td>0.000000</td>\n",
       "      <td>193.82600</td>\n",
       "      <td>31849.8000</td>\n",
       "      <td>11.693253</td>\n",
       "      <td>1.921454</td>\n",
       "      <td>0.000000</td>\n",
       "    </tr>\n",
       "    <tr>\n",
       "      <th>54097</th>\n",
       "      <td>54097</td>\n",
       "      <td>Antigua and Barbuda</td>\n",
       "      <td>coal</td>\n",
       "      <td>2019</td>\n",
       "      <td>0.000000</td>\n",
       "      <td>0.000000</td>\n",
       "      <td>2.12893</td>\n",
       "      <td>97.0566</td>\n",
       "      <td>107.154033</td>\n",
       "      <td>4.885086</td>\n",
       "      <td>0.000000</td>\n",
       "    </tr>\n",
       "    <tr>\n",
       "      <th>...</th>\n",
       "      <td>...</td>\n",
       "      <td>...</td>\n",
       "      <td>...</td>\n",
       "      <td>...</td>\n",
       "      <td>...</td>\n",
       "      <td>...</td>\n",
       "      <td>...</td>\n",
       "      <td>...</td>\n",
       "      <td>...</td>\n",
       "      <td>...</td>\n",
       "      <td>...</td>\n",
       "    </tr>\n",
       "    <tr>\n",
       "      <th>55399</th>\n",
       "      <td>55399</td>\n",
       "      <td>Venezuela</td>\n",
       "      <td>coal</td>\n",
       "      <td>2019</td>\n",
       "      <td>0.001117</td>\n",
       "      <td>0.012014</td>\n",
       "      <td>190.14720</td>\n",
       "      <td>28515.8500</td>\n",
       "      <td>85.828574</td>\n",
       "      <td>12.871474</td>\n",
       "      <td>0.127186</td>\n",
       "    </tr>\n",
       "    <tr>\n",
       "      <th>55405</th>\n",
       "      <td>55405</td>\n",
       "      <td>Vietnam</td>\n",
       "      <td>coal</td>\n",
       "      <td>2019</td>\n",
       "      <td>1.647620</td>\n",
       "      <td>1.202316</td>\n",
       "      <td>915.50400</td>\n",
       "      <td>96425.9000</td>\n",
       "      <td>36.391525</td>\n",
       "      <td>3.832955</td>\n",
       "      <td>159.987205</td>\n",
       "    </tr>\n",
       "    <tr>\n",
       "      <th>55423</th>\n",
       "      <td>55423</td>\n",
       "      <td>Yemen</td>\n",
       "      <td>coal</td>\n",
       "      <td>2019</td>\n",
       "      <td>0.000851</td>\n",
       "      <td>0.000000</td>\n",
       "      <td>53.08380</td>\n",
       "      <td>29162.2000</td>\n",
       "      <td>5.452938</td>\n",
       "      <td>2.995635</td>\n",
       "      <td>0.221373</td>\n",
       "    </tr>\n",
       "    <tr>\n",
       "      <th>55429</th>\n",
       "      <td>55429</td>\n",
       "      <td>Zambia</td>\n",
       "      <td>coal</td>\n",
       "      <td>2019</td>\n",
       "      <td>0.034151</td>\n",
       "      <td>0.024538</td>\n",
       "      <td>247.18190</td>\n",
       "      <td>17873.8500</td>\n",
       "      <td>11.586567</td>\n",
       "      <td>0.837831</td>\n",
       "      <td>2.894102</td>\n",
       "    </tr>\n",
       "    <tr>\n",
       "      <th>55435</th>\n",
       "      <td>55435</td>\n",
       "      <td>Zimbabwe</td>\n",
       "      <td>coal</td>\n",
       "      <td>2019</td>\n",
       "      <td>0.045064</td>\n",
       "      <td>0.075963</td>\n",
       "      <td>37.62040</td>\n",
       "      <td>14654.2000</td>\n",
       "      <td>11.508701</td>\n",
       "      <td>4.482962</td>\n",
       "      <td>4.586869</td>\n",
       "    </tr>\n",
       "  </tbody>\n",
       "</table>\n",
       "<p>195 rows × 11 columns</p>\n",
       "</div>"
      ],
      "text/plain": [
       "       unnamed: 0              country energy_type  year  energy_consumption  \\\n",
       "54061       54061          Afghanistan        coal  2019            0.044564   \n",
       "54067       54067              Albania        coal  2019            0.002494   \n",
       "54073       54073              Algeria        coal  2019            0.000405   \n",
       "54085       54085               Angola        coal  2019            0.000000   \n",
       "54097       54097  Antigua and Barbuda        coal  2019            0.000000   \n",
       "...           ...                  ...         ...   ...                 ...   \n",
       "55399       55399            Venezuela        coal  2019            0.001117   \n",
       "55405       55405              Vietnam        coal  2019            1.647620   \n",
       "55423       55423                Yemen        coal  2019            0.000851   \n",
       "55429       55429               Zambia        coal  2019            0.034151   \n",
       "55435       55435             Zimbabwe        coal  2019            0.045064   \n",
       "\n",
       "       energy_production        gdp  population  energy_intensity_per_capita  \\\n",
       "54061           0.042336   79.45460  38050.9000                     3.225901   \n",
       "54067           0.000089   38.26840   2879.9200                    38.455319   \n",
       "54073           0.000000  509.06600  43030.4000                    61.433374   \n",
       "54085           0.000000  193.82600  31849.8000                    11.693253   \n",
       "54097           0.000000    2.12893     97.0566                   107.154033   \n",
       "...                  ...        ...         ...                          ...   \n",
       "55399           0.012014  190.14720  28515.8500                    85.828574   \n",
       "55405           1.202316  915.50400  96425.9000                    36.391525   \n",
       "55423           0.000000   53.08380  29162.2000                     5.452938   \n",
       "55429           0.024538  247.18190  17873.8500                    11.586567   \n",
       "55435           0.075963   37.62040  14654.2000                    11.508701   \n",
       "\n",
       "       energy_intensity_by_gdp  co2_emission  \n",
       "54061                 1.544888      4.752619  \n",
       "54067                 2.893987      0.204336  \n",
       "54073                 5.192849      0.232647  \n",
       "54085                 1.921454      0.000000  \n",
       "54097                 4.885086      0.000000  \n",
       "...                        ...           ...  \n",
       "55399                12.871474      0.127186  \n",
       "55405                 3.832955    159.987205  \n",
       "55423                 2.995635      0.221373  \n",
       "55429                 0.837831      2.894102  \n",
       "55435                 4.482962      4.586869  \n",
       "\n",
       "[195 rows x 11 columns]"
      ]
     },
     "execution_count": 47,
     "metadata": {},
     "output_type": "execute_result"
    }
   ],
   "source": [
    "df = df.loc[df['energy_type'] == 'coal']\n",
    "df"
   ]
  },
  {
   "cell_type": "markdown",
   "id": "c9ba48d6",
   "metadata": {},
   "source": [
    "В результате получили 195 наблюдений, теперь посмотрим на выбросы. Если удалять выбросы используя межквартильный размах, то наблюдений останется очень мало. Кроме того, удалять еще больше стран из рассмотрения не совсем верно, так как нас интересует информация в целом по миру, поэтому посмотрим, какие именно страны показывают выбросы и связано ли это с их уровнем развития"
   ]
  },
  {
   "cell_type": "code",
   "execution_count": 48,
   "id": "423ab0fe",
   "metadata": {},
   "outputs": [
    {
     "data": {
      "text/html": [
       "<div>\n",
       "<style scoped>\n",
       "    .dataframe tbody tr th:only-of-type {\n",
       "        vertical-align: middle;\n",
       "    }\n",
       "\n",
       "    .dataframe tbody tr th {\n",
       "        vertical-align: top;\n",
       "    }\n",
       "\n",
       "    .dataframe thead th {\n",
       "        text-align: right;\n",
       "    }\n",
       "</style>\n",
       "<table border=\"1\" class=\"dataframe\">\n",
       "  <thead>\n",
       "    <tr style=\"text-align: right;\">\n",
       "      <th></th>\n",
       "      <th>unnamed: 0</th>\n",
       "      <th>country</th>\n",
       "      <th>energy_type</th>\n",
       "      <th>year</th>\n",
       "      <th>energy_consumption</th>\n",
       "      <th>energy_production</th>\n",
       "      <th>gdp</th>\n",
       "      <th>population</th>\n",
       "      <th>energy_intensity_per_capita</th>\n",
       "      <th>energy_intensity_by_gdp</th>\n",
       "      <th>co2_emission</th>\n",
       "    </tr>\n",
       "  </thead>\n",
       "  <tbody>\n",
       "    <tr>\n",
       "      <th>54301</th>\n",
       "      <td>54301</td>\n",
       "      <td>China</td>\n",
       "      <td>coal</td>\n",
       "      <td>2019</td>\n",
       "      <td>91.364828</td>\n",
       "      <td>87.634713</td>\n",
       "      <td>23128.34</td>\n",
       "      <td>1434512.0</td>\n",
       "      <td>105.686733</td>\n",
       "      <td>6.555113</td>\n",
       "      <td>8546.287450</td>\n",
       "    </tr>\n",
       "    <tr>\n",
       "      <th>54649</th>\n",
       "      <td>54649</td>\n",
       "      <td>India</td>\n",
       "      <td>coal</td>\n",
       "      <td>2019</td>\n",
       "      <td>16.265289</td>\n",
       "      <td>11.666316</td>\n",
       "      <td>9310.29</td>\n",
       "      <td>1368140.0</td>\n",
       "      <td>23.230619</td>\n",
       "      <td>3.413722</td>\n",
       "      <td>1589.042006</td>\n",
       "    </tr>\n",
       "  </tbody>\n",
       "</table>\n",
       "</div>"
      ],
      "text/plain": [
       "       unnamed: 0 country energy_type  year  energy_consumption  \\\n",
       "54301       54301   China        coal  2019           91.364828   \n",
       "54649       54649   India        coal  2019           16.265289   \n",
       "\n",
       "       energy_production       gdp  population  energy_intensity_per_capita  \\\n",
       "54301          87.634713  23128.34   1434512.0                   105.686733   \n",
       "54649          11.666316   9310.29   1368140.0                    23.230619   \n",
       "\n",
       "       energy_intensity_by_gdp  co2_emission  \n",
       "54301                 6.555113   8546.287450  \n",
       "54649                 3.413722   1589.042006  "
      ]
     },
     "execution_count": 48,
     "metadata": {},
     "output_type": "execute_result"
    },
    {
     "data": {
      "image/png": "[encoded data removed]",
      "text/plain": [
       "<Figure size 640x480 with 1 Axes>"
      ]
     },
     "metadata": {},
     "output_type": "display_data"
    }
   ],
   "source": [
    "df['population'].plot.box()\n",
    "df.loc[df['population'] > 1200000]"
   ]
  },
  {
   "cell_type": "code",
   "execution_count": 49,
   "id": "71cb4ad5",
   "metadata": {},
   "outputs": [
    {
     "data": {
      "text/html": [
       "<div>\n",
       "<style scoped>\n",
       "    .dataframe tbody tr th:only-of-type {\n",
       "        vertical-align: middle;\n",
       "    }\n",
       "\n",
       "    .dataframe tbody tr th {\n",
       "        vertical-align: top;\n",
       "    }\n",
       "\n",
       "    .dataframe thead th {\n",
       "        text-align: right;\n",
       "    }\n",
       "</style>\n",
       "<table border=\"1\" class=\"dataframe\">\n",
       "  <thead>\n",
       "    <tr style=\"text-align: right;\">\n",
       "      <th></th>\n",
       "      <th>unnamed: 0</th>\n",
       "      <th>country</th>\n",
       "      <th>energy_type</th>\n",
       "      <th>year</th>\n",
       "      <th>energy_consumption</th>\n",
       "      <th>energy_production</th>\n",
       "      <th>gdp</th>\n",
       "      <th>population</th>\n",
       "      <th>energy_intensity_per_capita</th>\n",
       "      <th>energy_intensity_by_gdp</th>\n",
       "      <th>co2_emission</th>\n",
       "    </tr>\n",
       "  </thead>\n",
       "  <tbody>\n",
       "    <tr>\n",
       "      <th>54301</th>\n",
       "      <td>54301</td>\n",
       "      <td>China</td>\n",
       "      <td>coal</td>\n",
       "      <td>2019</td>\n",
       "      <td>91.364828</td>\n",
       "      <td>87.634713</td>\n",
       "      <td>23128.34</td>\n",
       "      <td>1434512.0</td>\n",
       "      <td>105.686733</td>\n",
       "      <td>6.555113</td>\n",
       "      <td>8546.287450</td>\n",
       "    </tr>\n",
       "    <tr>\n",
       "      <th>54649</th>\n",
       "      <td>54649</td>\n",
       "      <td>India</td>\n",
       "      <td>coal</td>\n",
       "      <td>2019</td>\n",
       "      <td>16.265289</td>\n",
       "      <td>11.666316</td>\n",
       "      <td>9310.29</td>\n",
       "      <td>1368140.0</td>\n",
       "      <td>23.230619</td>\n",
       "      <td>3.413722</td>\n",
       "      <td>1589.042006</td>\n",
       "    </tr>\n",
       "    <tr>\n",
       "      <th>55375</th>\n",
       "      <td>55375</td>\n",
       "      <td>United States</td>\n",
       "      <td>coal</td>\n",
       "      <td>2019</td>\n",
       "      <td>11.315595</td>\n",
       "      <td>14.255763</td>\n",
       "      <td>19925.43</td>\n",
       "      <td>330043.8</td>\n",
       "      <td>304.305271</td>\n",
       "      <td>5.040497</td>\n",
       "      <td>1262.555409</td>\n",
       "    </tr>\n",
       "  </tbody>\n",
       "</table>\n",
       "</div>"
      ],
      "text/plain": [
       "       unnamed: 0        country energy_type  year  energy_consumption  \\\n",
       "54301       54301          China        coal  2019           91.364828   \n",
       "54649       54649          India        coal  2019           16.265289   \n",
       "55375       55375  United States        coal  2019           11.315595   \n",
       "\n",
       "       energy_production       gdp  population  energy_intensity_per_capita  \\\n",
       "54301          87.634713  23128.34   1434512.0                   105.686733   \n",
       "54649          11.666316   9310.29   1368140.0                    23.230619   \n",
       "55375          14.255763  19925.43    330043.8                   304.305271   \n",
       "\n",
       "       energy_intensity_by_gdp  co2_emission  \n",
       "54301                 6.555113   8546.287450  \n",
       "54649                 3.413722   1589.042006  \n",
       "55375                 5.040497   1262.555409  "
      ]
     },
     "execution_count": 49,
     "metadata": {},
     "output_type": "execute_result"
    },
    {
     "data": {
      "image/png": "[encoded data removed]",
      "text/plain": [
       "<Figure size 640x480 with 1 Axes>"
      ]
     },
     "metadata": {},
     "output_type": "display_data"
    }
   ],
   "source": [
    "df['co2_emission'].plot.box()\n",
    "df.loc[df['co2_emission'] > 1000]"
   ]
  },
  {
   "cell_type": "code",
   "execution_count": 50,
   "id": "fe2598d5",
   "metadata": {},
   "outputs": [
    {
     "data": {
      "text/html": [
       "<div>\n",
       "<style scoped>\n",
       "    .dataframe tbody tr th:only-of-type {\n",
       "        vertical-align: middle;\n",
       "    }\n",
       "\n",
       "    .dataframe tbody tr th {\n",
       "        vertical-align: top;\n",
       "    }\n",
       "\n",
       "    .dataframe thead th {\n",
       "        text-align: right;\n",
       "    }\n",
       "</style>\n",
       "<table border=\"1\" class=\"dataframe\">\n",
       "  <thead>\n",
       "    <tr style=\"text-align: right;\">\n",
       "      <th></th>\n",
       "      <th>unnamed: 0</th>\n",
       "      <th>country</th>\n",
       "      <th>energy_type</th>\n",
       "      <th>year</th>\n",
       "      <th>energy_consumption</th>\n",
       "      <th>energy_production</th>\n",
       "      <th>gdp</th>\n",
       "      <th>population</th>\n",
       "      <th>energy_intensity_per_capita</th>\n",
       "      <th>energy_intensity_by_gdp</th>\n",
       "      <th>co2_emission</th>\n",
       "    </tr>\n",
       "  </thead>\n",
       "  <tbody>\n",
       "    <tr>\n",
       "      <th>54301</th>\n",
       "      <td>54301</td>\n",
       "      <td>China</td>\n",
       "      <td>coal</td>\n",
       "      <td>2019</td>\n",
       "      <td>91.364828</td>\n",
       "      <td>87.634713</td>\n",
       "      <td>23128.34</td>\n",
       "      <td>1434512.0</td>\n",
       "      <td>105.686733</td>\n",
       "      <td>6.555113</td>\n",
       "      <td>8546.287450</td>\n",
       "    </tr>\n",
       "    <tr>\n",
       "      <th>54649</th>\n",
       "      <td>54649</td>\n",
       "      <td>India</td>\n",
       "      <td>coal</td>\n",
       "      <td>2019</td>\n",
       "      <td>16.265289</td>\n",
       "      <td>11.666316</td>\n",
       "      <td>9310.29</td>\n",
       "      <td>1368140.0</td>\n",
       "      <td>23.230619</td>\n",
       "      <td>3.413722</td>\n",
       "      <td>1589.042006</td>\n",
       "    </tr>\n",
       "    <tr>\n",
       "      <th>55375</th>\n",
       "      <td>55375</td>\n",
       "      <td>United States</td>\n",
       "      <td>coal</td>\n",
       "      <td>2019</td>\n",
       "      <td>11.315595</td>\n",
       "      <td>14.255763</td>\n",
       "      <td>19925.43</td>\n",
       "      <td>330043.8</td>\n",
       "      <td>304.305271</td>\n",
       "      <td>5.040497</td>\n",
       "      <td>1262.555409</td>\n",
       "    </tr>\n",
       "  </tbody>\n",
       "</table>\n",
       "</div>"
      ],
      "text/plain": [
       "       unnamed: 0        country energy_type  year  energy_consumption  \\\n",
       "54301       54301          China        coal  2019           91.364828   \n",
       "54649       54649          India        coal  2019           16.265289   \n",
       "55375       55375  United States        coal  2019           11.315595   \n",
       "\n",
       "       energy_production       gdp  population  energy_intensity_per_capita  \\\n",
       "54301          87.634713  23128.34   1434512.0                   105.686733   \n",
       "54649          11.666316   9310.29   1368140.0                    23.230619   \n",
       "55375          14.255763  19925.43    330043.8                   304.305271   \n",
       "\n",
       "       energy_intensity_by_gdp  co2_emission  \n",
       "54301                 6.555113   8546.287450  \n",
       "54649                 3.413722   1589.042006  \n",
       "55375                 5.040497   1262.555409  "
      ]
     },
     "execution_count": 50,
     "metadata": {},
     "output_type": "execute_result"
    },
    {
     "data": {
      "image/png": "[encoded data removed]",
      "text/plain": [
       "<Figure size 640x480 with 1 Axes>"
      ]
     },
     "metadata": {},
     "output_type": "display_data"
    }
   ],
   "source": [
    "df['energy_consumption'].plot.box()\n",
    "df.loc[df['energy_consumption'] > 10]"
   ]
  },
  {
   "cell_type": "markdown",
   "id": "3d9d5990",
   "metadata": {},
   "source": [
    "Видно, что основные самые экстремальные выбросы наблюдаются по странам Китай, Индия и США, что связано с их высокой численностью населения и интенсивным производством по сравнению с другими странами, поэтому исключим их из анализа"
   ]
  },
  {
   "cell_type": "code",
   "execution_count": 52,
   "id": "ed7c9feb",
   "metadata": {},
   "outputs": [
    {
     "data": {
      "text/html": [
       "<div>\n",
       "<style scoped>\n",
       "    .dataframe tbody tr th:only-of-type {\n",
       "        vertical-align: middle;\n",
       "    }\n",
       "\n",
       "    .dataframe tbody tr th {\n",
       "        vertical-align: top;\n",
       "    }\n",
       "\n",
       "    .dataframe thead th {\n",
       "        text-align: right;\n",
       "    }\n",
       "</style>\n",
       "<table border=\"1\" class=\"dataframe\">\n",
       "  <thead>\n",
       "    <tr style=\"text-align: right;\">\n",
       "      <th></th>\n",
       "      <th>unnamed: 0</th>\n",
       "      <th>country</th>\n",
       "      <th>energy_type</th>\n",
       "      <th>year</th>\n",
       "      <th>energy_consumption</th>\n",
       "      <th>energy_production</th>\n",
       "      <th>gdp</th>\n",
       "      <th>population</th>\n",
       "      <th>energy_intensity_per_capita</th>\n",
       "      <th>energy_intensity_by_gdp</th>\n",
       "      <th>co2_emission</th>\n",
       "    </tr>\n",
       "  </thead>\n",
       "  <tbody>\n",
       "    <tr>\n",
       "      <th>54061</th>\n",
       "      <td>54061</td>\n",
       "      <td>Afghanistan</td>\n",
       "      <td>coal</td>\n",
       "      <td>2019</td>\n",
       "      <td>0.044564</td>\n",
       "      <td>0.042336</td>\n",
       "      <td>79.45460</td>\n",
       "      <td>38050.9000</td>\n",
       "      <td>3.225901</td>\n",
       "      <td>1.544888</td>\n",
       "      <td>4.752619</td>\n",
       "    </tr>\n",
       "    <tr>\n",
       "      <th>54067</th>\n",
       "      <td>54067</td>\n",
       "      <td>Albania</td>\n",
       "      <td>coal</td>\n",
       "      <td>2019</td>\n",
       "      <td>0.002494</td>\n",
       "      <td>0.000089</td>\n",
       "      <td>38.26840</td>\n",
       "      <td>2879.9200</td>\n",
       "      <td>38.455319</td>\n",
       "      <td>2.893987</td>\n",
       "      <td>0.204336</td>\n",
       "    </tr>\n",
       "    <tr>\n",
       "      <th>54073</th>\n",
       "      <td>54073</td>\n",
       "      <td>Algeria</td>\n",
       "      <td>coal</td>\n",
       "      <td>2019</td>\n",
       "      <td>0.000405</td>\n",
       "      <td>0.000000</td>\n",
       "      <td>509.06600</td>\n",
       "      <td>43030.4000</td>\n",
       "      <td>61.433374</td>\n",
       "      <td>5.192849</td>\n",
       "      <td>0.232647</td>\n",
       "    </tr>\n",
       "    <tr>\n",
       "      <th>54085</th>\n",
       "      <td>54085</td>\n",
       "      <td>Angola</td>\n",
       "      <td>coal</td>\n",
       "      <td>2019</td>\n",
       "      <td>0.000000</td>\n",
       "      <td>0.000000</td>\n",
       "      <td>193.82600</td>\n",
       "      <td>31849.8000</td>\n",
       "      <td>11.693253</td>\n",
       "      <td>1.921454</td>\n",
       "      <td>0.000000</td>\n",
       "    </tr>\n",
       "    <tr>\n",
       "      <th>54097</th>\n",
       "      <td>54097</td>\n",
       "      <td>Antigua and Barbuda</td>\n",
       "      <td>coal</td>\n",
       "      <td>2019</td>\n",
       "      <td>0.000000</td>\n",
       "      <td>0.000000</td>\n",
       "      <td>2.12893</td>\n",
       "      <td>97.0566</td>\n",
       "      <td>107.154033</td>\n",
       "      <td>4.885086</td>\n",
       "      <td>0.000000</td>\n",
       "    </tr>\n",
       "    <tr>\n",
       "      <th>...</th>\n",
       "      <td>...</td>\n",
       "      <td>...</td>\n",
       "      <td>...</td>\n",
       "      <td>...</td>\n",
       "      <td>...</td>\n",
       "      <td>...</td>\n",
       "      <td>...</td>\n",
       "      <td>...</td>\n",
       "      <td>...</td>\n",
       "      <td>...</td>\n",
       "      <td>...</td>\n",
       "    </tr>\n",
       "    <tr>\n",
       "      <th>55399</th>\n",
       "      <td>55399</td>\n",
       "      <td>Venezuela</td>\n",
       "      <td>coal</td>\n",
       "      <td>2019</td>\n",
       "      <td>0.001117</td>\n",
       "      <td>0.012014</td>\n",
       "      <td>190.14720</td>\n",
       "      <td>28515.8500</td>\n",
       "      <td>85.828574</td>\n",
       "      <td>12.871474</td>\n",
       "      <td>0.127186</td>\n",
       "    </tr>\n",
       "    <tr>\n",
       "      <th>55405</th>\n",
       "      <td>55405</td>\n",
       "      <td>Vietnam</td>\n",
       "      <td>coal</td>\n",
       "      <td>2019</td>\n",
       "      <td>1.647620</td>\n",
       "      <td>1.202316</td>\n",
       "      <td>915.50400</td>\n",
       "      <td>96425.9000</td>\n",
       "      <td>36.391525</td>\n",
       "      <td>3.832955</td>\n",
       "      <td>159.987205</td>\n",
       "    </tr>\n",
       "    <tr>\n",
       "      <th>55423</th>\n",
       "      <td>55423</td>\n",
       "      <td>Yemen</td>\n",
       "      <td>coal</td>\n",
       "      <td>2019</td>\n",
       "      <td>0.000851</td>\n",
       "      <td>0.000000</td>\n",
       "      <td>53.08380</td>\n",
       "      <td>29162.2000</td>\n",
       "      <td>5.452938</td>\n",
       "      <td>2.995635</td>\n",
       "      <td>0.221373</td>\n",
       "    </tr>\n",
       "    <tr>\n",
       "      <th>55429</th>\n",
       "      <td>55429</td>\n",
       "      <td>Zambia</td>\n",
       "      <td>coal</td>\n",
       "      <td>2019</td>\n",
       "      <td>0.034151</td>\n",
       "      <td>0.024538</td>\n",
       "      <td>247.18190</td>\n",
       "      <td>17873.8500</td>\n",
       "      <td>11.586567</td>\n",
       "      <td>0.837831</td>\n",
       "      <td>2.894102</td>\n",
       "    </tr>\n",
       "    <tr>\n",
       "      <th>55435</th>\n",
       "      <td>55435</td>\n",
       "      <td>Zimbabwe</td>\n",
       "      <td>coal</td>\n",
       "      <td>2019</td>\n",
       "      <td>0.045064</td>\n",
       "      <td>0.075963</td>\n",
       "      <td>37.62040</td>\n",
       "      <td>14654.2000</td>\n",
       "      <td>11.508701</td>\n",
       "      <td>4.482962</td>\n",
       "      <td>4.586869</td>\n",
       "    </tr>\n",
       "  </tbody>\n",
       "</table>\n",
       "<p>192 rows × 11 columns</p>\n",
       "</div>"
      ],
      "text/plain": [
       "       unnamed: 0              country energy_type  year  energy_consumption  \\\n",
       "54061       54061          Afghanistan        coal  2019            0.044564   \n",
       "54067       54067              Albania        coal  2019            0.002494   \n",
       "54073       54073              Algeria        coal  2019            0.000405   \n",
       "54085       54085               Angola        coal  2019            0.000000   \n",
       "54097       54097  Antigua and Barbuda        coal  2019            0.000000   \n",
       "...           ...                  ...         ...   ...                 ...   \n",
       "55399       55399            Venezuela        coal  2019            0.001117   \n",
       "55405       55405              Vietnam        coal  2019            1.647620   \n",
       "55423       55423                Yemen        coal  2019            0.000851   \n",
       "55429       55429               Zambia        coal  2019            0.034151   \n",
       "55435       55435             Zimbabwe        coal  2019            0.045064   \n",
       "\n",
       "       energy_production        gdp  population  energy_intensity_per_capita  \\\n",
       "54061           0.042336   79.45460  38050.9000                     3.225901   \n",
       "54067           0.000089   38.26840   2879.9200                    38.455319   \n",
       "54073           0.000000  509.06600  43030.4000                    61.433374   \n",
       "54085           0.000000  193.82600  31849.8000                    11.693253   \n",
       "54097           0.000000    2.12893     97.0566                   107.154033   \n",
       "...                  ...        ...         ...                          ...   \n",
       "55399           0.012014  190.14720  28515.8500                    85.828574   \n",
       "55405           1.202316  915.50400  96425.9000                    36.391525   \n",
       "55423           0.000000   53.08380  29162.2000                     5.452938   \n",
       "55429           0.024538  247.18190  17873.8500                    11.586567   \n",
       "55435           0.075963   37.62040  14654.2000                    11.508701   \n",
       "\n",
       "       energy_intensity_by_gdp  co2_emission  \n",
       "54061                 1.544888      4.752619  \n",
       "54067                 2.893987      0.204336  \n",
       "54073                 5.192849      0.232647  \n",
       "54085                 1.921454      0.000000  \n",
       "54097                 4.885086      0.000000  \n",
       "...                        ...           ...  \n",
       "55399                12.871474      0.127186  \n",
       "55405                 3.832955    159.987205  \n",
       "55423                 2.995635      0.221373  \n",
       "55429                 0.837831      2.894102  \n",
       "55435                 4.482962      4.586869  \n",
       "\n",
       "[192 rows x 11 columns]"
      ]
     },
     "execution_count": 52,
     "metadata": {},
     "output_type": "execute_result"
    }
   ],
   "source": [
    "df = df.loc[(df['country'] != 'China') & (df['country'] != 'India') & (df['country'] != 'United States')]\n",
    "df"
   ]
  },
  {
   "cell_type": "code",
   "execution_count": 53,
   "id": "9288d8e2",
   "metadata": {},
   "outputs": [
    {
     "name": "stderr",
     "output_type": "stream",
     "text": [
      "C:\\Users\\Elizaveta\\AppData\\Local\\Temp\\ipykernel_2024\\2355143037.py:1: FutureWarning: The default value of numeric_only in DataFrame.corr is deprecated. In a future version, it will default to False. Select only valid columns or specify the value of numeric_only to silence this warning.\n",
      "  corr_matrix = df.corr()\n"
     ]
    },
    {
     "data": {
      "text/html": [
       "<div>\n",
       "<style scoped>\n",
       "    .dataframe tbody tr th:only-of-type {\n",
       "        vertical-align: middle;\n",
       "    }\n",
       "\n",
       "    .dataframe tbody tr th {\n",
       "        vertical-align: top;\n",
       "    }\n",
       "\n",
       "    .dataframe thead th {\n",
       "        text-align: right;\n",
       "    }\n",
       "</style>\n",
       "<table border=\"1\" class=\"dataframe\">\n",
       "  <thead>\n",
       "    <tr style=\"text-align: right;\">\n",
       "      <th></th>\n",
       "      <th>unnamed: 0</th>\n",
       "      <th>year</th>\n",
       "      <th>energy_consumption</th>\n",
       "      <th>energy_production</th>\n",
       "      <th>gdp</th>\n",
       "      <th>population</th>\n",
       "      <th>energy_intensity_per_capita</th>\n",
       "      <th>energy_intensity_by_gdp</th>\n",
       "      <th>co2_emission</th>\n",
       "    </tr>\n",
       "  </thead>\n",
       "  <tbody>\n",
       "    <tr>\n",
       "      <th>unnamed: 0</th>\n",
       "      <td>1.000000</td>\n",
       "      <td>NaN</td>\n",
       "      <td>0.126914</td>\n",
       "      <td>-0.014467</td>\n",
       "      <td>0.067605</td>\n",
       "      <td>0.032664</td>\n",
       "      <td>0.036529</td>\n",
       "      <td>0.125123</td>\n",
       "      <td>0.125521</td>\n",
       "    </tr>\n",
       "    <tr>\n",
       "      <th>year</th>\n",
       "      <td>NaN</td>\n",
       "      <td>NaN</td>\n",
       "      <td>NaN</td>\n",
       "      <td>NaN</td>\n",
       "      <td>NaN</td>\n",
       "      <td>NaN</td>\n",
       "      <td>NaN</td>\n",
       "      <td>NaN</td>\n",
       "      <td>NaN</td>\n",
       "    </tr>\n",
       "    <tr>\n",
       "      <th>energy_consumption</th>\n",
       "      <td>0.126914</td>\n",
       "      <td>NaN</td>\n",
       "      <td>1.000000</td>\n",
       "      <td>0.634007</td>\n",
       "      <td>0.714951</td>\n",
       "      <td>0.483409</td>\n",
       "      <td>0.149062</td>\n",
       "      <td>0.152833</td>\n",
       "      <td>0.993732</td>\n",
       "    </tr>\n",
       "    <tr>\n",
       "      <th>energy_production</th>\n",
       "      <td>-0.014467</td>\n",
       "      <td>NaN</td>\n",
       "      <td>0.634007</td>\n",
       "      <td>1.000000</td>\n",
       "      <td>0.400886</td>\n",
       "      <td>0.402610</td>\n",
       "      <td>0.103649</td>\n",
       "      <td>0.131703</td>\n",
       "      <td>0.598395</td>\n",
       "    </tr>\n",
       "    <tr>\n",
       "      <th>gdp</th>\n",
       "      <td>0.067605</td>\n",
       "      <td>NaN</td>\n",
       "      <td>0.714951</td>\n",
       "      <td>0.400886</td>\n",
       "      <td>1.000000</td>\n",
       "      <td>0.687131</td>\n",
       "      <td>0.212168</td>\n",
       "      <td>0.068659</td>\n",
       "      <td>0.745978</td>\n",
       "    </tr>\n",
       "    <tr>\n",
       "      <th>population</th>\n",
       "      <td>0.032664</td>\n",
       "      <td>NaN</td>\n",
       "      <td>0.483409</td>\n",
       "      <td>0.402610</td>\n",
       "      <td>0.687131</td>\n",
       "      <td>1.000000</td>\n",
       "      <td>-0.091288</td>\n",
       "      <td>-0.055723</td>\n",
       "      <td>0.474877</td>\n",
       "    </tr>\n",
       "    <tr>\n",
       "      <th>energy_intensity_per_capita</th>\n",
       "      <td>0.036529</td>\n",
       "      <td>NaN</td>\n",
       "      <td>0.149062</td>\n",
       "      <td>0.103649</td>\n",
       "      <td>0.212168</td>\n",
       "      <td>-0.091288</td>\n",
       "      <td>1.000000</td>\n",
       "      <td>0.550000</td>\n",
       "      <td>0.161564</td>\n",
       "    </tr>\n",
       "    <tr>\n",
       "      <th>energy_intensity_by_gdp</th>\n",
       "      <td>0.125123</td>\n",
       "      <td>NaN</td>\n",
       "      <td>0.152833</td>\n",
       "      <td>0.131703</td>\n",
       "      <td>0.068659</td>\n",
       "      <td>-0.055723</td>\n",
       "      <td>0.550000</td>\n",
       "      <td>1.000000</td>\n",
       "      <td>0.148244</td>\n",
       "    </tr>\n",
       "    <tr>\n",
       "      <th>co2_emission</th>\n",
       "      <td>0.125521</td>\n",
       "      <td>NaN</td>\n",
       "      <td>0.993732</td>\n",
       "      <td>0.598395</td>\n",
       "      <td>0.745978</td>\n",
       "      <td>0.474877</td>\n",
       "      <td>0.161564</td>\n",
       "      <td>0.148244</td>\n",
       "      <td>1.000000</td>\n",
       "    </tr>\n",
       "  </tbody>\n",
       "</table>\n",
       "</div>"
      ],
      "text/plain": [
       "                             unnamed: 0  year  energy_consumption  \\\n",
       "unnamed: 0                     1.000000   NaN            0.126914   \n",
       "year                                NaN   NaN                 NaN   \n",
       "energy_consumption             0.126914   NaN            1.000000   \n",
       "energy_production             -0.014467   NaN            0.634007   \n",
       "gdp                            0.067605   NaN            0.714951   \n",
       "population                     0.032664   NaN            0.483409   \n",
       "energy_intensity_per_capita    0.036529   NaN            0.149062   \n",
       "energy_intensity_by_gdp        0.125123   NaN            0.152833   \n",
       "co2_emission                   0.125521   NaN            0.993732   \n",
       "\n",
       "                             energy_production       gdp  population  \\\n",
       "unnamed: 0                           -0.014467  0.067605    0.032664   \n",
       "year                                       NaN       NaN         NaN   \n",
       "energy_consumption                    0.634007  0.714951    0.483409   \n",
       "energy_production                     1.000000  0.400886    0.402610   \n",
       "gdp                                   0.400886  1.000000    0.687131   \n",
       "population                            0.402610  0.687131    1.000000   \n",
       "energy_intensity_per_capita           0.103649  0.212168   -0.091288   \n",
       "energy_intensity_by_gdp               0.131703  0.068659   -0.055723   \n",
       "co2_emission                          0.598395  0.745978    0.474877   \n",
       "\n",
       "                             energy_intensity_per_capita  \\\n",
       "unnamed: 0                                      0.036529   \n",
       "year                                                 NaN   \n",
       "energy_consumption                              0.149062   \n",
       "energy_production                               0.103649   \n",
       "gdp                                             0.212168   \n",
       "population                                     -0.091288   \n",
       "energy_intensity_per_capita                     1.000000   \n",
       "energy_intensity_by_gdp                         0.550000   \n",
       "co2_emission                                    0.161564   \n",
       "\n",
       "                             energy_intensity_by_gdp  co2_emission  \n",
       "unnamed: 0                                  0.125123      0.125521  \n",
       "year                                             NaN           NaN  \n",
       "energy_consumption                          0.152833      0.993732  \n",
       "energy_production                           0.131703      0.598395  \n",
       "gdp                                         0.068659      0.745978  \n",
       "population                                 -0.055723      0.474877  \n",
       "energy_intensity_per_capita                 0.550000      0.161564  \n",
       "energy_intensity_by_gdp                     1.000000      0.148244  \n",
       "co2_emission                                0.148244      1.000000  "
      ]
     },
     "execution_count": 53,
     "metadata": {},
     "output_type": "execute_result"
    }
   ],
   "source": [
    "corr_matrix = df.corr()\n",
    "corr_matrix"
   ]
  },
  {
   "cell_type": "code",
   "execution_count": 54,
   "id": "40585ade",
   "metadata": {},
   "outputs": [
    {
     "data": {
      "image/png": "[encoded data removed]",
      "text/plain": [
       "<Figure size 800x600 with 2 Axes>"
      ]
     },
     "metadata": {},
     "output_type": "display_data"
    }
   ],
   "source": [
    "plt.figure(figsize=(8, 6))\n",
    "sns.heatmap(corr_matrix, annot=True, fmt='.2f', cmap='coolwarm', linewidths=.3)\n",
    "plt.show()"
   ]
  },
  {
   "cell_type": "markdown",
   "id": "8b214764",
   "metadata": {},
   "source": [
    "Осталось 192 наблюдения, посмотрели их матрицу корреляции"
   ]
  },
  {
   "cell_type": "markdown",
   "id": "6bc9886f",
   "metadata": {},
   "source": [
    "### 1. Выбрать факторы"
   ]
  },
  {
   "cell_type": "markdown",
   "id": "c8102d99",
   "metadata": {},
   "source": [
    "Зависимый фактор - CO2_emission\n",
    "\n",
    "Независимые переменные (выбрала те, где связь между факторами и результатом наиболее тесная):\n",
    "\n",
    "    1. Energy_consumption (r=0.99)\n",
    "    2. Energy_production (r=0.60)\n",
    "    2. GDP (r=0.75)"
   ]
  },
  {
   "cell_type": "code",
   "execution_count": 55,
   "id": "9633db37",
   "metadata": {},
   "outputs": [],
   "source": [
    "df_1 = df[['country','co2_emission', 'energy_consumption', 'energy_production', 'gdp']]"
   ]
  },
  {
   "cell_type": "code",
   "execution_count": 56,
   "id": "0ebfc55a",
   "metadata": {},
   "outputs": [
    {
     "name": "stderr",
     "output_type": "stream",
     "text": [
      "C:\\Users\\Elizaveta\\AppData\\Local\\Temp\\ipykernel_2024\\2396592637.py:1: FutureWarning: The default value of numeric_only in DataFrame.corr is deprecated. In a future version, it will default to False. Select only valid columns or specify the value of numeric_only to silence this warning.\n",
      "  matrix_corr_1 = df_1.corr()\n"
     ]
    },
    {
     "data": {
      "text/html": [
       "<div>\n",
       "<style scoped>\n",
       "    .dataframe tbody tr th:only-of-type {\n",
       "        vertical-align: middle;\n",
       "    }\n",
       "\n",
       "    .dataframe tbody tr th {\n",
       "        vertical-align: top;\n",
       "    }\n",
       "\n",
       "    .dataframe thead th {\n",
       "        text-align: right;\n",
       "    }\n",
       "</style>\n",
       "<table border=\"1\" class=\"dataframe\">\n",
       "  <thead>\n",
       "    <tr style=\"text-align: right;\">\n",
       "      <th></th>\n",
       "      <th>co2_emission</th>\n",
       "      <th>energy_consumption</th>\n",
       "      <th>energy_production</th>\n",
       "      <th>gdp</th>\n",
       "    </tr>\n",
       "  </thead>\n",
       "  <tbody>\n",
       "    <tr>\n",
       "      <th>co2_emission</th>\n",
       "      <td>1.000000</td>\n",
       "      <td>0.993732</td>\n",
       "      <td>0.598395</td>\n",
       "      <td>0.745978</td>\n",
       "    </tr>\n",
       "    <tr>\n",
       "      <th>energy_consumption</th>\n",
       "      <td>0.993732</td>\n",
       "      <td>1.000000</td>\n",
       "      <td>0.634007</td>\n",
       "      <td>0.714951</td>\n",
       "    </tr>\n",
       "    <tr>\n",
       "      <th>energy_production</th>\n",
       "      <td>0.598395</td>\n",
       "      <td>0.634007</td>\n",
       "      <td>1.000000</td>\n",
       "      <td>0.400886</td>\n",
       "    </tr>\n",
       "    <tr>\n",
       "      <th>gdp</th>\n",
       "      <td>0.745978</td>\n",
       "      <td>0.714951</td>\n",
       "      <td>0.400886</td>\n",
       "      <td>1.000000</td>\n",
       "    </tr>\n",
       "  </tbody>\n",
       "</table>\n",
       "</div>"
      ],
      "text/plain": [
       "                    co2_emission  energy_consumption  energy_production  \\\n",
       "co2_emission            1.000000            0.993732           0.598395   \n",
       "energy_consumption      0.993732            1.000000           0.634007   \n",
       "energy_production       0.598395            0.634007           1.000000   \n",
       "gdp                     0.745978            0.714951           0.400886   \n",
       "\n",
       "                         gdp  \n",
       "co2_emission        0.745978  \n",
       "energy_consumption  0.714951  \n",
       "energy_production   0.400886  \n",
       "gdp                 1.000000  "
      ]
     },
     "execution_count": 56,
     "metadata": {},
     "output_type": "execute_result"
    }
   ],
   "source": [
    "matrix_corr_1 = df_1.corr()\n",
    "matrix_corr_1"
   ]
  },
  {
   "cell_type": "code",
   "execution_count": 58,
   "id": "4bcec561",
   "metadata": {},
   "outputs": [
    {
     "data": {
      "image/png": "[encoded data removed]",
      "text/plain": [
       "<Figure size 800x600 with 2 Axes>"
      ]
     },
     "metadata": {},
     "output_type": "display_data"
    }
   ],
   "source": [
    "plt.figure(figsize=(8, 6))\n",
    "sns.heatmap(matrix_corr_1, annot=True, fmt='.2f', cmap='coolwarm', linewidths=.3)\n",
    "plt.show()"
   ]
  },
  {
   "cell_type": "markdown",
   "id": "92c2797e",
   "metadata": {},
   "source": [
    "Наблюдается коллинеарность между факторами Energy_consumption и GDP. Так как фактор Energy_production меньше кореллирует с фактором GDP (0,4 < 0,63), оставляем факторы Energy_production и GDP "
   ]
  },
  {
   "cell_type": "code",
   "execution_count": 59,
   "id": "741610bf",
   "metadata": {},
   "outputs": [],
   "source": [
    "df_1 = df[['country','co2_emission', 'gdp', 'energy_production']]"
   ]
  },
  {
   "cell_type": "code",
   "execution_count": 60,
   "id": "72546347",
   "metadata": {},
   "outputs": [
    {
     "data": {
      "text/plain": [
       "<Axes: xlabel='gdp', ylabel='co2_emission'>"
      ]
     },
     "execution_count": 60,
     "metadata": {},
     "output_type": "execute_result"
    },
    {
     "data": {
      "image/png": "[encoded data removed]",
      "text/plain": [
       "<Figure size 640x480 with 1 Axes>"
      ]
     },
     "metadata": {},
     "output_type": "display_data"
    }
   ],
   "source": [
    "df_1.plot(kind='scatter', x='gdp', y='co2_emission')"
   ]
  },
  {
   "cell_type": "code",
   "execution_count": 63,
   "id": "b755127b",
   "metadata": {},
   "outputs": [
    {
     "data": {
      "text/plain": [
       "<Axes: xlabel='energy_production', ylabel='co2_emission'>"
      ]
     },
     "execution_count": 63,
     "metadata": {},
     "output_type": "execute_result"
    },
    {
     "data": {
      "image/png": "[encoded data removed]",
      "text/plain": [
       "<Figure size 600x600 with 1 Axes>"
      ]
     },
     "metadata": {},
     "output_type": "display_data"
    }
   ],
   "source": [
    "df_1.plot(kind='scatter', x='energy_production', y='co2_emission')"
   ]
  },
  {
   "cell_type": "code",
   "execution_count": 64,
   "id": "29084a22",
   "metadata": {},
   "outputs": [
    {
     "name": "stderr",
     "output_type": "stream",
     "text": [
      "C:\\Users\\Elizaveta\\AppData\\Local\\Temp\\ipykernel_2024\\1178905708.py:2: UserWarning: \n",
      "\n",
      "`distplot` is a deprecated function and will be removed in seaborn v0.14.0.\n",
      "\n",
      "Please adapt your code to use either `displot` (a figure-level function with\n",
      "similar flexibility) or `histplot` (an axes-level function for histograms).\n",
      "\n",
      "For a guide to updating your code to use the new functions, please see\n",
      "https://gist.github.com/mwaskom/de44147ed2974457ad6372750bbe5751\n",
      "\n",
      "  sns.distplot(df_1['co2_emission']).set(title='Функция плотности выбросов углерода', xlabel='Выручка', ylabel='Плотность распределения')\n"
     ]
    },
    {
     "data": {
      "image/png": "[encoded data removed]",
      "text/plain": [
       "<Figure size 600x600 with 1 Axes>"
      ]
     },
     "metadata": {},
     "output_type": "display_data"
    }
   ],
   "source": [
    "plt.rcParams['figure.figsize']=6,6\n",
    "sns.distplot(df_1['co2_emission']).set(title='Функция плотности выбросов углерода', xlabel='Выручка', ylabel='Плотность распределения')\n",
    "plt.show()"
   ]
  },
  {
   "cell_type": "code",
   "execution_count": 65,
   "id": "156969e8",
   "metadata": {},
   "outputs": [
    {
     "data": {
      "image/png": "[encoded data removed]",
      "text/plain": [
       "<Figure size 600x600 with 1 Axes>"
      ]
     },
     "metadata": {},
     "output_type": "display_data"
    }
   ],
   "source": [
    "plt.figure(figsize=(6, 6))\n",
    "st.probplot(df_1['co2_emission'], dist='norm', plot=plt)\n",
    "plt.show()"
   ]
  },
  {
   "cell_type": "markdown",
   "id": "f049c625",
   "metadata": {},
   "source": [
    "### 2. Оценить параметры уравнения множественной регрессии."
   ]
  },
  {
   "cell_type": "code",
   "execution_count": 66,
   "id": "23dd214e",
   "metadata": {},
   "outputs": [],
   "source": [
    "from statsmodels.formula.api import ols"
   ]
  },
  {
   "cell_type": "code",
   "execution_count": 67,
   "id": "3be01104",
   "metadata": {},
   "outputs": [
    {
     "data": {
      "text/html": [
       "<table class=\"simpletable\">\n",
       "<caption>OLS Regression Results</caption>\n",
       "<tr>\n",
       "  <th>Dep. Variable:</th>      <td>co2_emission</td>   <th>  R-squared:         </th> <td>   0.663</td>\n",
       "</tr>\n",
       "<tr>\n",
       "  <th>Model:</th>                   <td>OLS</td>       <th>  Adj. R-squared:    </th> <td>   0.660</td>\n",
       "</tr>\n",
       "<tr>\n",
       "  <th>Method:</th>             <td>Least Squares</td>  <th>  F-statistic:       </th> <td>   186.1</td>\n",
       "</tr>\n",
       "<tr>\n",
       "  <th>Date:</th>             <td>Mon, 25 Dec 2023</td> <th>  Prob (F-statistic):</th> <td>2.14e-45</td>\n",
       "</tr>\n",
       "<tr>\n",
       "  <th>Time:</th>                 <td>22:57:32</td>     <th>  Log-Likelihood:    </th> <td> -979.80</td>\n",
       "</tr>\n",
       "<tr>\n",
       "  <th>No. Observations:</th>      <td>   192</td>      <th>  AIC:               </th> <td>   1966.</td>\n",
       "</tr>\n",
       "<tr>\n",
       "  <th>Df Residuals:</th>          <td>   189</td>      <th>  BIC:               </th> <td>   1975.</td>\n",
       "</tr>\n",
       "<tr>\n",
       "  <th>Df Model:</th>              <td>     2</td>      <th>                     </th>     <td> </td>   \n",
       "</tr>\n",
       "<tr>\n",
       "  <th>Covariance Type:</th>      <td>nonrobust</td>    <th>                     </th>     <td> </td>   \n",
       "</tr>\n",
       "</table>\n",
       "<table class=\"simpletable\">\n",
       "<tr>\n",
       "          <td></td>             <th>coef</th>     <th>std err</th>      <th>t</th>      <th>P>|t|</th>  <th>[0.025</th>    <th>0.975]</th>  \n",
       "</tr>\n",
       "<tr>\n",
       "  <th>Intercept</th>         <td>   -2.4821</td> <td>    3.228</td> <td>   -0.769</td> <td> 0.443</td> <td>   -8.850</td> <td>    3.886</td>\n",
       "</tr>\n",
       "<tr>\n",
       "  <th>gdp</th>               <td>    0.0520</td> <td>    0.004</td> <td>   13.087</td> <td> 0.000</td> <td>    0.044</td> <td>    0.060</td>\n",
       "</tr>\n",
       "<tr>\n",
       "  <th>energy_production</th> <td>   16.0576</td> <td>    2.074</td> <td>    7.741</td> <td> 0.000</td> <td>   11.966</td> <td>   20.150</td>\n",
       "</tr>\n",
       "</table>\n",
       "<table class=\"simpletable\">\n",
       "<tr>\n",
       "  <th>Omnibus:</th>       <td>112.126</td> <th>  Durbin-Watson:     </th> <td>   1.618</td> \n",
       "</tr>\n",
       "<tr>\n",
       "  <th>Prob(Omnibus):</th> <td> 0.000</td>  <th>  Jarque-Bera (JB):  </th> <td>1382.015</td> \n",
       "</tr>\n",
       "<tr>\n",
       "  <th>Skew:</th>          <td> 1.901</td>  <th>  Prob(JB):          </th> <td>7.93e-301</td>\n",
       "</tr>\n",
       "<tr>\n",
       "  <th>Kurtosis:</th>      <td>15.582</td>  <th>  Cond. No.          </th> <td>    989.</td> \n",
       "</tr>\n",
       "</table><br/><br/>Notes:<br/>[1] Standard Errors assume that the covariance matrix of the errors is correctly specified."
      ],
      "text/latex": [
       "\\begin{center}\n",
       "\\begin{tabular}{lclc}\n",
       "\\toprule\n",
       "\\textbf{Dep. Variable:}     &  co2\\_emission   & \\textbf{  R-squared:         } &     0.663   \\\\\n",
       "\\textbf{Model:}             &       OLS        & \\textbf{  Adj. R-squared:    } &     0.660   \\\\\n",
       "\\textbf{Method:}            &  Least Squares   & \\textbf{  F-statistic:       } &     186.1   \\\\\n",
       "\\textbf{Date:}              & Mon, 25 Dec 2023 & \\textbf{  Prob (F-statistic):} &  2.14e-45   \\\\\n",
       "\\textbf{Time:}              &     22:57:32     & \\textbf{  Log-Likelihood:    } &   -979.80   \\\\\n",
       "\\textbf{No. Observations:}  &         192      & \\textbf{  AIC:               } &     1966.   \\\\\n",
       "\\textbf{Df Residuals:}      &         189      & \\textbf{  BIC:               } &     1975.   \\\\\n",
       "\\textbf{Df Model:}          &           2      & \\textbf{                     } &             \\\\\n",
       "\\textbf{Covariance Type:}   &    nonrobust     & \\textbf{                     } &             \\\\\n",
       "\\bottomrule\n",
       "\\end{tabular}\n",
       "\\begin{tabular}{lcccccc}\n",
       "                            & \\textbf{coef} & \\textbf{std err} & \\textbf{t} & \\textbf{P$> |$t$|$} & \\textbf{[0.025} & \\textbf{0.975]}  \\\\\n",
       "\\midrule\n",
       "\\textbf{Intercept}          &      -2.4821  &        3.228     &    -0.769  &         0.443        &       -8.850    &        3.886     \\\\\n",
       "\\textbf{gdp}                &       0.0520  &        0.004     &    13.087  &         0.000        &        0.044    &        0.060     \\\\\n",
       "\\textbf{energy\\_production} &      16.0576  &        2.074     &     7.741  &         0.000        &       11.966    &       20.150     \\\\\n",
       "\\bottomrule\n",
       "\\end{tabular}\n",
       "\\begin{tabular}{lclc}\n",
       "\\textbf{Omnibus:}       & 112.126 & \\textbf{  Durbin-Watson:     } &     1.618  \\\\\n",
       "\\textbf{Prob(Omnibus):} &   0.000 & \\textbf{  Jarque-Bera (JB):  } &  1382.015  \\\\\n",
       "\\textbf{Skew:}          &   1.901 & \\textbf{  Prob(JB):          } & 7.93e-301  \\\\\n",
       "\\textbf{Kurtosis:}      &  15.582 & \\textbf{  Cond. No.          } &      989.  \\\\\n",
       "\\bottomrule\n",
       "\\end{tabular}\n",
       "%\\caption{OLS Regression Results}\n",
       "\\end{center}\n",
       "\n",
       "Notes: \\newline\n",
       " [1] Standard Errors assume that the covariance matrix of the errors is correctly specified."
      ],
      "text/plain": [
       "<class 'statsmodels.iolib.summary.Summary'>\n",
       "\"\"\"\n",
       "                            OLS Regression Results                            \n",
       "==============================================================================\n",
       "Dep. Variable:           co2_emission   R-squared:                       0.663\n",
       "Model:                            OLS   Adj. R-squared:                  0.660\n",
       "Method:                 Least Squares   F-statistic:                     186.1\n",
       "Date:                Mon, 25 Dec 2023   Prob (F-statistic):           2.14e-45\n",
       "Time:                        22:57:32   Log-Likelihood:                -979.80\n",
       "No. Observations:                 192   AIC:                             1966.\n",
       "Df Residuals:                     189   BIC:                             1975.\n",
       "Df Model:                           2                                         \n",
       "Covariance Type:            nonrobust                                         \n",
       "=====================================================================================\n",
       "                        coef    std err          t      P>|t|      [0.025      0.975]\n",
       "-------------------------------------------------------------------------------------\n",
       "Intercept            -2.4821      3.228     -0.769      0.443      -8.850       3.886\n",
       "gdp                   0.0520      0.004     13.087      0.000       0.044       0.060\n",
       "energy_production    16.0576      2.074      7.741      0.000      11.966      20.150\n",
       "==============================================================================\n",
       "Omnibus:                      112.126   Durbin-Watson:                   1.618\n",
       "Prob(Omnibus):                  0.000   Jarque-Bera (JB):             1382.015\n",
       "Skew:                           1.901   Prob(JB):                    7.93e-301\n",
       "Kurtosis:                      15.582   Cond. No.                         989.\n",
       "==============================================================================\n",
       "\n",
       "Notes:\n",
       "[1] Standard Errors assume that the covariance matrix of the errors is correctly specified.\n",
       "\"\"\""
      ]
     },
     "execution_count": 67,
     "metadata": {},
     "output_type": "execute_result"
    }
   ],
   "source": [
    "model = ols('co2_emission ~ gdp + energy_production', data = df_1)\n",
    "res = model.fit()\n",
    "res.summary()"
   ]
  },
  {
   "cell_type": "markdown",
   "id": "60fedac0",
   "metadata": {},
   "source": [
    "### Y = -2.4821 + 0.0520*X1 + 16.0576*X2"
   ]
  },
  {
   "cell_type": "markdown",
   "id": "b2688b2c",
   "metadata": {},
   "source": [
    "1) При изменении ВВП на 1 млрд. долларов количество выброшенного CO2 изменяется в среднем на 0.0520 млн. тонн в ту же сторону при неизменном объеме производства угля\n",
    "\n",
    "2) При изменении объема производства угля на 1 кв.БТЕ количество выброшенного CO2 изменяется в среднем на 16.0576 млн. тонн в ту же сторону при неизменном ВВП"
   ]
  },
  {
   "cell_type": "markdown",
   "id": "1d17d4bb",
   "metadata": {},
   "source": [
    "### 3. Рассчитать стандартизованные коэффициенты регрессии, проинтерпретировать полученные значения.\t\t\t\t\t\t\t\t\n"
   ]
  },
  {
   "cell_type": "code",
   "execution_count": 68,
   "id": "c1ef3258",
   "metadata": {},
   "outputs": [
    {
     "name": "stderr",
     "output_type": "stream",
     "text": [
      "C:\\Users\\Elizaveta\\AppData\\Local\\Temp\\ipykernel_2024\\2647149693.py:1: FutureWarning: The default value of numeric_only in DataFrame.corr is deprecated. In a future version, it will default to False. Select only valid columns or specify the value of numeric_only to silence this warning.\n",
      "  corr = df_1.corr()\n"
     ]
    },
    {
     "data": {
      "text/html": [
       "<div>\n",
       "<style scoped>\n",
       "    .dataframe tbody tr th:only-of-type {\n",
       "        vertical-align: middle;\n",
       "    }\n",
       "\n",
       "    .dataframe tbody tr th {\n",
       "        vertical-align: top;\n",
       "    }\n",
       "\n",
       "    .dataframe thead th {\n",
       "        text-align: right;\n",
       "    }\n",
       "</style>\n",
       "<table border=\"1\" class=\"dataframe\">\n",
       "  <thead>\n",
       "    <tr style=\"text-align: right;\">\n",
       "      <th></th>\n",
       "      <th>co2_emission</th>\n",
       "      <th>gdp</th>\n",
       "      <th>energy_production</th>\n",
       "    </tr>\n",
       "  </thead>\n",
       "  <tbody>\n",
       "    <tr>\n",
       "      <th>co2_emission</th>\n",
       "      <td>1.000000</td>\n",
       "      <td>0.745978</td>\n",
       "      <td>0.598395</td>\n",
       "    </tr>\n",
       "    <tr>\n",
       "      <th>gdp</th>\n",
       "      <td>0.745978</td>\n",
       "      <td>1.000000</td>\n",
       "      <td>0.400886</td>\n",
       "    </tr>\n",
       "    <tr>\n",
       "      <th>energy_production</th>\n",
       "      <td>0.598395</td>\n",
       "      <td>0.400886</td>\n",
       "      <td>1.000000</td>\n",
       "    </tr>\n",
       "  </tbody>\n",
       "</table>\n",
       "</div>"
      ],
      "text/plain": [
       "                   co2_emission       gdp  energy_production\n",
       "co2_emission           1.000000  0.745978           0.598395\n",
       "gdp                    0.745978  1.000000           0.400886\n",
       "energy_production      0.598395  0.400886           1.000000"
      ]
     },
     "execution_count": 68,
     "metadata": {},
     "output_type": "execute_result"
    }
   ],
   "source": [
    "corr = df_1.corr()\n",
    "corr"
   ]
  },
  {
   "cell_type": "code",
   "execution_count": 69,
   "id": "90077254",
   "metadata": {},
   "outputs": [
    {
     "data": {
      "text/plain": [
       "0.6029973884537895"
      ]
     },
     "execution_count": 69,
     "metadata": {},
     "output_type": "execute_result"
    }
   ],
   "source": [
    "st_1 = (corr.iloc[1][0] - corr.iloc[2][0] * corr.iloc[1][2]) / (1 - corr.iloc[1][2] * corr.iloc[1][2])\n",
    "st_1"
   ]
  },
  {
   "cell_type": "code",
   "execution_count": 70,
   "id": "45558280",
   "metadata": {},
   "outputs": [
    {
     "data": {
      "text/plain": [
       "0.35666127686974136"
      ]
     },
     "execution_count": 70,
     "metadata": {},
     "output_type": "execute_result"
    }
   ],
   "source": [
    "st_2 = (corr.iloc[2][0] - corr.iloc[1][0] * corr.iloc[1][2]) / (1 - corr.iloc[1][2] * corr.iloc[1][2])\n",
    "st_2"
   ]
  },
  {
   "cell_type": "markdown",
   "id": "f634b47b",
   "metadata": {},
   "source": [
    "### ty = 0.603*tx1 + 0.357*tx2"
   ]
  },
  {
   "cell_type": "markdown",
   "id": "6067f89b",
   "metadata": {},
   "source": [
    "1) С ростом ВВП на 1σ и неизменном объеме производства угля количество выброшенного CO2 вырастет в среднем на 0,603σ\n",
    "\n",
    "2) С ростом объема производства угля на 1σ и неизменном ВВП количество выброшенного CO2 вырастет в среднем на 0,357σ\n"
   ]
  },
  {
   "cell_type": "markdown",
   "id": "9cb348a9",
   "metadata": {},
   "source": [
    "Наибольшее значение на количество выброшенного CO2 оказывает ВВП (x1)"
   ]
  },
  {
   "cell_type": "markdown",
   "id": "5927eaac",
   "metadata": {},
   "source": [
    "### 4. Найти коэффициенты эластичности, поясни их экономический смысл.\t\t\t\t\t\t\t\t"
   ]
  },
  {
   "cell_type": "code",
   "execution_count": 71,
   "id": "8e164a13",
   "metadata": {},
   "outputs": [
    {
     "data": {
      "text/html": [
       "<div>\n",
       "<style scoped>\n",
       "    .dataframe tbody tr th:only-of-type {\n",
       "        vertical-align: middle;\n",
       "    }\n",
       "\n",
       "    .dataframe tbody tr th {\n",
       "        vertical-align: top;\n",
       "    }\n",
       "\n",
       "    .dataframe thead th {\n",
       "        text-align: right;\n",
       "    }\n",
       "</style>\n",
       "<table border=\"1\" class=\"dataframe\">\n",
       "  <thead>\n",
       "    <tr style=\"text-align: right;\">\n",
       "      <th></th>\n",
       "      <th>country</th>\n",
       "      <th>co2_emission</th>\n",
       "      <th>gdp</th>\n",
       "      <th>energy_production</th>\n",
       "    </tr>\n",
       "  </thead>\n",
       "  <tbody>\n",
       "    <tr>\n",
       "      <th>54061</th>\n",
       "      <td>Afghanistan</td>\n",
       "      <td>4.752619</td>\n",
       "      <td>79.45460</td>\n",
       "      <td>0.042336</td>\n",
       "    </tr>\n",
       "    <tr>\n",
       "      <th>54067</th>\n",
       "      <td>Albania</td>\n",
       "      <td>0.204336</td>\n",
       "      <td>38.26840</td>\n",
       "      <td>0.000089</td>\n",
       "    </tr>\n",
       "    <tr>\n",
       "      <th>54073</th>\n",
       "      <td>Algeria</td>\n",
       "      <td>0.232647</td>\n",
       "      <td>509.06600</td>\n",
       "      <td>0.000000</td>\n",
       "    </tr>\n",
       "    <tr>\n",
       "      <th>54085</th>\n",
       "      <td>Angola</td>\n",
       "      <td>0.000000</td>\n",
       "      <td>193.82600</td>\n",
       "      <td>0.000000</td>\n",
       "    </tr>\n",
       "    <tr>\n",
       "      <th>54097</th>\n",
       "      <td>Antigua and Barbuda</td>\n",
       "      <td>0.000000</td>\n",
       "      <td>2.12893</td>\n",
       "      <td>0.000000</td>\n",
       "    </tr>\n",
       "    <tr>\n",
       "      <th>...</th>\n",
       "      <td>...</td>\n",
       "      <td>...</td>\n",
       "      <td>...</td>\n",
       "      <td>...</td>\n",
       "    </tr>\n",
       "    <tr>\n",
       "      <th>55399</th>\n",
       "      <td>Venezuela</td>\n",
       "      <td>0.127186</td>\n",
       "      <td>190.14720</td>\n",
       "      <td>0.012014</td>\n",
       "    </tr>\n",
       "    <tr>\n",
       "      <th>55405</th>\n",
       "      <td>Vietnam</td>\n",
       "      <td>159.987205</td>\n",
       "      <td>915.50400</td>\n",
       "      <td>1.202316</td>\n",
       "    </tr>\n",
       "    <tr>\n",
       "      <th>55423</th>\n",
       "      <td>Yemen</td>\n",
       "      <td>0.221373</td>\n",
       "      <td>53.08380</td>\n",
       "      <td>0.000000</td>\n",
       "    </tr>\n",
       "    <tr>\n",
       "      <th>55429</th>\n",
       "      <td>Zambia</td>\n",
       "      <td>2.894102</td>\n",
       "      <td>247.18190</td>\n",
       "      <td>0.024538</td>\n",
       "    </tr>\n",
       "    <tr>\n",
       "      <th>55435</th>\n",
       "      <td>Zimbabwe</td>\n",
       "      <td>4.586869</td>\n",
       "      <td>37.62040</td>\n",
       "      <td>0.075963</td>\n",
       "    </tr>\n",
       "  </tbody>\n",
       "</table>\n",
       "<p>192 rows × 4 columns</p>\n",
       "</div>"
      ],
      "text/plain": [
       "                   country  co2_emission        gdp  energy_production\n",
       "54061          Afghanistan      4.752619   79.45460           0.042336\n",
       "54067              Albania      0.204336   38.26840           0.000089\n",
       "54073              Algeria      0.232647  509.06600           0.000000\n",
       "54085               Angola      0.000000  193.82600           0.000000\n",
       "54097  Antigua and Barbuda      0.000000    2.12893           0.000000\n",
       "...                    ...           ...        ...                ...\n",
       "55399            Venezuela      0.127186  190.14720           0.012014\n",
       "55405              Vietnam    159.987205  915.50400           1.202316\n",
       "55423                Yemen      0.221373   53.08380           0.000000\n",
       "55429               Zambia      2.894102  247.18190           0.024538\n",
       "55435             Zimbabwe      4.586869   37.62040           0.075963\n",
       "\n",
       "[192 rows x 4 columns]"
      ]
     },
     "execution_count": 71,
     "metadata": {},
     "output_type": "execute_result"
    }
   ],
   "source": [
    "df_1"
   ]
  },
  {
   "cell_type": "code",
   "execution_count": 72,
   "id": "3e877a94",
   "metadata": {},
   "outputs": [],
   "source": [
    "y_mean = df_1['co2_emission'].mean()\n",
    "x1_mean = df_1['gdp'].mean()\n",
    "x2_mean = df_1['energy_production'].mean()"
   ]
  },
  {
   "cell_type": "code",
   "execution_count": 73,
   "id": "d3223015",
   "metadata": {},
   "outputs": [
    {
     "name": "stdout",
     "output_type": "stream",
     "text": [
      "2.2243076986828476 4.399583270101156e-05\n"
     ]
    }
   ],
   "source": [
    "x1_el = 0.1292 * x1_mean / y_mean\n",
    "x2_el = 0.0033 * x2_mean / y_mean\n",
    "print(x1_el, x2_el)"
   ]
  },
  {
   "cell_type": "markdown",
   "id": "2ab4d4c5",
   "metadata": {},
   "source": [
    "С ростом ВВП на 1 % и неизменном объеме производства угля, количество выброшенного CO2 вырастет в среднем на 2,22%\n",
    "\n",
    "\n",
    "С ростом объема производства угля на 1 % и неизменном ВВП, количество выброшенного CO2 вырастет в среднем на 0.000044%\n"
   ]
  },
  {
   "cell_type": "markdown",
   "id": "d86f293e",
   "metadata": {},
   "source": [
    "Фактор x1 сильнее влияет на результат, чем фактор x2"
   ]
  },
  {
   "cell_type": "markdown",
   "id": "6639104e",
   "metadata": {},
   "source": [
    "### 5. Оценить значимость параметров и уравнения множественной регрессии.\t\t\t\t\t\n"
   ]
  },
  {
   "cell_type": "markdown",
   "id": "4add255b",
   "metadata": {},
   "source": [
    "F факт = 186.1\n",
    "\n",
    "F табл = 3,04\n",
    "\n",
    "F факт > F крит => Уравнение статистически значимо с вероятностью 95%\t\t\t\t"
   ]
  },
  {
   "cell_type": "markdown",
   "id": "c9cbe175",
   "metadata": {},
   "source": [
    "t табл = 1,9719\n",
    "\n",
    "t1 = 13.087\t\n",
    "\n",
    "t2 = 7.741\n",
    "\n",
    "Так как t1 и t2 фактические больше, чем t табл => оба коэффициента значимы с вероятностью 0.95"
   ]
  },
  {
   "cell_type": "markdown",
   "id": "73ad48ec",
   "metadata": {},
   "source": [
    "### 6. Оценить значимость включения переменных в уравнение регрессии\t\t\t\t\t\n"
   ]
  },
  {
   "cell_type": "markdown",
   "id": "ff6b3831",
   "metadata": {},
   "source": [
    "R-squared =\t0.663"
   ]
  },
  {
   "cell_type": "markdown",
   "id": "689a29a1",
   "metadata": {},
   "source": [
    "66,3% вариации количества выброшенного CO2 объясняется варицией ВВП и объема производства угля"
   ]
  },
  {
   "cell_type": "code",
   "execution_count": 80,
   "id": "fae9076e",
   "metadata": {},
   "outputs": [],
   "source": [
    "R = 0.663"
   ]
  },
  {
   "cell_type": "code",
   "execution_count": 81,
   "id": "94e8f2aa",
   "metadata": {},
   "outputs": [
    {
     "data": {
      "text/plain": [
       "-46.78288486476417"
      ]
     },
     "execution_count": 81,
     "metadata": {},
     "output_type": "execute_result"
    }
   ],
   "source": [
    "F1 = (R - corr.iloc[1][0])/(1-R) * 190\n",
    "F1"
   ]
  },
  {
   "cell_type": "code",
   "execution_count": 82,
   "id": "4316dea1",
   "metadata": {},
   "outputs": [
    {
     "data": {
      "text/plain": [
       "36.42431719578567"
      ]
     },
     "execution_count": 82,
     "metadata": {},
     "output_type": "execute_result"
    }
   ],
   "source": [
    "F2 = (R - corr.iloc[2][0])/(1-R) * 190\n",
    "F2"
   ]
  },
  {
   "cell_type": "markdown",
   "id": "3e418830",
   "metadata": {},
   "source": [
    "F1 > F табл\n",
    "\n",
    "F2 > F табл"
   ]
  },
  {
   "cell_type": "markdown",
   "id": "74c01bee",
   "metadata": {},
   "source": [
    "Дополнительное включение фактора x1 (ВВП) в модель статистически оправданно и коэффициент регрессии b1 при факторе x1 статистически значим\n",
    "\n",
    "Дополнительное включение фактора x2 (объем производства угля) в модель статистически оправданно и коэффициент регрессии b2 при факторе x2 статистически значим"
   ]
  },
  {
   "cell_type": "markdown",
   "id": "21037061",
   "metadata": {},
   "source": [
    "### 7. Рассчитать множественный коэффициент корреляции, скорректированный коэффициент детерминации.\t\t\t\t\t\t\t\t\t\n"
   ]
  },
  {
   "cell_type": "markdown",
   "id": "c3bc84d5",
   "metadata": {},
   "source": [
    "Множественный коэффициент корреляции"
   ]
  },
  {
   "cell_type": "code",
   "execution_count": 83,
   "id": "fab2bc59",
   "metadata": {},
   "outputs": [
    {
     "data": {
      "text/plain": [
       "0.8142481194328913"
      ]
     },
     "execution_count": 83,
     "metadata": {},
     "output_type": "execute_result"
    }
   ],
   "source": [
    "r = np.sqrt(R)\n",
    "r"
   ]
  },
  {
   "cell_type": "markdown",
   "id": "25663f35",
   "metadata": {},
   "source": [
    "Связь между факторами тесная (по шкале Чеддока)"
   ]
  },
  {
   "cell_type": "markdown",
   "id": "e703fd80",
   "metadata": {},
   "source": [
    "Скорректированный коэффициент детерминации"
   ]
  },
  {
   "cell_type": "markdown",
   "id": "157bf975",
   "metadata": {},
   "source": [
    "R_skorrect = 0.660"
   ]
  },
  {
   "cell_type": "markdown",
   "id": "ba7aabb6",
   "metadata": {},
   "source": [
    "В целом разница между R-квадратом и скорректированным R-квадратом очень маленькая, поэтому можно сказать, что модель качественная \t\t\t"
   ]
  },
  {
   "cell_type": "markdown",
   "id": "d9b98a5d",
   "metadata": {},
   "source": [
    "(Ryx1x2)^2 = 0.663, то есть 66,3% вариации количества выброшенного CO2 объясняется варицией ВВП и объема производства угля"
   ]
  },
  {
   "cell_type": "markdown",
   "id": "16c91bf7",
   "metadata": {},
   "source": [
    "### 8. Найти показатели частной корреляции."
   ]
  },
  {
   "cell_type": "code",
   "execution_count": 84,
   "id": "cd930e3a",
   "metadata": {},
   "outputs": [
    {
     "name": "stdout",
     "output_type": "stream",
     "text": [
      "Requirement already satisfied: pingouin in c:\\users\\elizaveta\\anaconda3\\lib\\site-packages (0.5.3)\n",
      "Requirement already satisfied: numpy>=1.19 in c:\\users\\elizaveta\\anaconda3\\lib\\site-packages (from pingouin) (1.24.3)\n",
      "Requirement already satisfied: scipy>=1.7 in c:\\users\\elizaveta\\anaconda3\\lib\\site-packages (from pingouin) (1.10.1)\n",
      "Requirement already satisfied: pandas>=1.0 in c:\\users\\elizaveta\\anaconda3\\lib\\site-packages (from pingouin) (1.5.3)\n",
      "Requirement already satisfied: matplotlib>=3.0.2 in c:\\users\\elizaveta\\anaconda3\\lib\\site-packages (from pingouin) (3.7.1)\n",
      "Requirement already satisfied: seaborn>=0.11 in c:\\users\\elizaveta\\anaconda3\\lib\\site-packages (from pingouin) (0.12.2)\n",
      "Requirement already satisfied: statsmodels>=0.13 in c:\\users\\elizaveta\\anaconda3\\lib\\site-packages (from pingouin) (0.14.0)\n",
      "Requirement already satisfied: scikit-learn in c:\\users\\elizaveta\\anaconda3\\lib\\site-packages (from pingouin) (1.3.0)\n",
      "Requirement already satisfied: pandas-flavor>=0.2.0 in c:\\users\\elizaveta\\anaconda3\\lib\\site-packages (from pingouin) (0.6.0)\n",
      "Requirement already satisfied: outdated in c:\\users\\elizaveta\\anaconda3\\lib\\site-packages (from pingouin) (0.0.0)\n",
      "Requirement already satisfied: tabulate in c:\\users\\elizaveta\\anaconda3\\lib\\site-packages (from pingouin) (0.8.10)\n",
      "Requirement already satisfied: contourpy>=1.0.1 in c:\\users\\elizaveta\\anaconda3\\lib\\site-packages (from matplotlib>=3.0.2->pingouin) (1.0.5)\n",
      "Requirement already satisfied: cycler>=0.10 in c:\\users\\elizaveta\\anaconda3\\lib\\site-packages (from matplotlib>=3.0.2->pingouin) (0.11.0)\n",
      "Requirement already satisfied: fonttools>=4.22.0 in c:\\users\\elizaveta\\anaconda3\\lib\\site-packages (from matplotlib>=3.0.2->pingouin) (4.25.0)\n",
      "Requirement already satisfied: kiwisolver>=1.0.1 in c:\\users\\elizaveta\\anaconda3\\lib\\site-packages (from matplotlib>=3.0.2->pingouin) (1.4.4)\n",
      "Requirement already satisfied: packaging>=20.0 in c:\\users\\elizaveta\\anaconda3\\lib\\site-packages (from matplotlib>=3.0.2->pingouin) (23.0)\n",
      "Requirement already satisfied: pillow>=6.2.0 in c:\\users\\elizaveta\\anaconda3\\lib\\site-packages (from matplotlib>=3.0.2->pingouin) (9.4.0)\n",
      "Requirement already satisfied: pyparsing>=2.3.1 in c:\\users\\elizaveta\\anaconda3\\lib\\site-packages (from matplotlib>=3.0.2->pingouin) (3.0.9)\n",
      "Requirement already satisfied: python-dateutil>=2.7 in c:\\users\\elizaveta\\anaconda3\\lib\\site-packages (from matplotlib>=3.0.2->pingouin) (2.8.2)\n",
      "Requirement already satisfied: pytz>=2020.1 in c:\\users\\elizaveta\\anaconda3\\lib\\site-packages (from pandas>=1.0->pingouin) (2022.7)\n",
      "Requirement already satisfied: xarray in c:\\users\\elizaveta\\anaconda3\\lib\\site-packages (from pandas-flavor>=0.2.0->pingouin) (2023.6.0)\n",
      "Requirement already satisfied: patsy>=0.5.2 in c:\\users\\elizaveta\\anaconda3\\lib\\site-packages (from statsmodels>=0.13->pingouin) (0.5.3)\n",
      "Requirement already satisfied: setuptools>=44 in c:\\users\\elizaveta\\anaconda3\\lib\\site-packages (from outdated->pingouin) (68.0.0)\n",
      "Requirement already satisfied: littleutils in c:\\users\\elizaveta\\anaconda3\\lib\\site-packages (from outdated->pingouin) (0.2.2)\n",
      "Requirement already satisfied: requests in c:\\users\\elizaveta\\anaconda3\\lib\\site-packages (from outdated->pingouin) (2.31.0)\n",
      "Requirement already satisfied: joblib>=1.1.1 in c:\\users\\elizaveta\\anaconda3\\lib\\site-packages (from scikit-learn->pingouin) (1.2.0)\n",
      "Requirement already satisfied: threadpoolctl>=2.0.0 in c:\\users\\elizaveta\\anaconda3\\lib\\site-packages (from scikit-learn->pingouin) (2.2.0)\n",
      "Requirement already satisfied: six in c:\\users\\elizaveta\\anaconda3\\lib\\site-packages (from patsy>=0.5.2->statsmodels>=0.13->pingouin) (1.16.0)\n",
      "Requirement already satisfied: charset-normalizer<4,>=2 in c:\\users\\elizaveta\\anaconda3\\lib\\site-packages (from requests->outdated->pingouin) (2.0.4)\n",
      "Requirement already satisfied: idna<4,>=2.5 in c:\\users\\elizaveta\\anaconda3\\lib\\site-packages (from requests->outdated->pingouin) (3.4)\n",
      "Requirement already satisfied: urllib3<3,>=1.21.1 in c:\\users\\elizaveta\\anaconda3\\lib\\site-packages (from requests->outdated->pingouin) (1.26.16)\n",
      "Requirement already satisfied: certifi>=2017.4.17 in c:\\users\\elizaveta\\anaconda3\\lib\\site-packages (from requests->outdated->pingouin) (2023.11.17)\n",
      "Note: you may need to restart the kernel to use updated packages.\n"
     ]
    }
   ],
   "source": [
    "pip install pingouin --upgrade"
   ]
  },
  {
   "cell_type": "code",
   "execution_count": 85,
   "id": "8dd1b74f",
   "metadata": {},
   "outputs": [
    {
     "data": {
      "text/html": [
       "<div>\n",
       "<style scoped>\n",
       "    .dataframe tbody tr th:only-of-type {\n",
       "        vertical-align: middle;\n",
       "    }\n",
       "\n",
       "    .dataframe tbody tr th {\n",
       "        vertical-align: top;\n",
       "    }\n",
       "\n",
       "    .dataframe thead th {\n",
       "        text-align: right;\n",
       "    }\n",
       "</style>\n",
       "<table border=\"1\" class=\"dataframe\">\n",
       "  <thead>\n",
       "    <tr style=\"text-align: right;\">\n",
       "      <th></th>\n",
       "      <th>n</th>\n",
       "      <th>r</th>\n",
       "      <th>CI95%</th>\n",
       "      <th>p-val</th>\n",
       "    </tr>\n",
       "  </thead>\n",
       "  <tbody>\n",
       "    <tr>\n",
       "      <th>pearson</th>\n",
       "      <td>192</td>\n",
       "      <td>0.689493</td>\n",
       "      <td>[0.61, 0.76]</td>\n",
       "      <td>2.791735e-28</td>\n",
       "    </tr>\n",
       "  </tbody>\n",
       "</table>\n",
       "</div>"
      ],
      "text/plain": [
       "           n         r         CI95%         p-val\n",
       "pearson  192  0.689493  [0.61, 0.76]  2.791735e-28"
      ]
     },
     "execution_count": 85,
     "metadata": {},
     "output_type": "execute_result"
    }
   ],
   "source": [
    "import pingouin as pg\n",
    "\n",
    "pg.partial_corr(data=df_1, x='gdp', y='co2_emission', covar='energy_production')"
   ]
  },
  {
   "cell_type": "markdown",
   "id": "0b0ed4f6",
   "metadata": {},
   "source": [
    "Частная корреляция между ВВП и количеством выбросов CO2 составляет 0.69, что соответсвует заметной тесноте связи"
   ]
  },
  {
   "cell_type": "code",
   "execution_count": 86,
   "id": "3ae323a9",
   "metadata": {},
   "outputs": [
    {
     "data": {
      "text/html": [
       "<div>\n",
       "<style scoped>\n",
       "    .dataframe tbody tr th:only-of-type {\n",
       "        vertical-align: middle;\n",
       "    }\n",
       "\n",
       "    .dataframe tbody tr th {\n",
       "        vertical-align: top;\n",
       "    }\n",
       "\n",
       "    .dataframe thead th {\n",
       "        text-align: right;\n",
       "    }\n",
       "</style>\n",
       "<table border=\"1\" class=\"dataframe\">\n",
       "  <thead>\n",
       "    <tr style=\"text-align: right;\">\n",
       "      <th></th>\n",
       "      <th>n</th>\n",
       "      <th>r</th>\n",
       "      <th>CI95%</th>\n",
       "      <th>p-val</th>\n",
       "    </tr>\n",
       "  </thead>\n",
       "  <tbody>\n",
       "    <tr>\n",
       "      <th>pearson</th>\n",
       "      <td>192</td>\n",
       "      <td>0.490633</td>\n",
       "      <td>[0.37, 0.59]</td>\n",
       "      <td>5.799734e-13</td>\n",
       "    </tr>\n",
       "  </tbody>\n",
       "</table>\n",
       "</div>"
      ],
      "text/plain": [
       "           n         r         CI95%         p-val\n",
       "pearson  192  0.490633  [0.37, 0.59]  5.799734e-13"
      ]
     },
     "execution_count": 86,
     "metadata": {},
     "output_type": "execute_result"
    }
   ],
   "source": [
    "pg.partial_corr(data=df_1, x='energy_production', y='co2_emission', covar='gdp')"
   ]
  },
  {
   "cell_type": "markdown",
   "id": "5807a1df",
   "metadata": {},
   "source": [
    "Частная корреляция между объемом производства угля и количеством выбросов CO2 составляет 0.49, что соответсвует умеренной тесноте связи"
   ]
  },
  {
   "cell_type": "markdown",
   "id": "25fce559",
   "metadata": {},
   "source": [
    "### 9. Построить модель с фиктивными переменными"
   ]
  },
  {
   "cell_type": "code",
   "execution_count": 87,
   "id": "3f8601c6",
   "metadata": {},
   "outputs": [
    {
     "data": {
      "text/html": [
       "<div>\n",
       "<style scoped>\n",
       "    .dataframe tbody tr th:only-of-type {\n",
       "        vertical-align: middle;\n",
       "    }\n",
       "\n",
       "    .dataframe tbody tr th {\n",
       "        vertical-align: top;\n",
       "    }\n",
       "\n",
       "    .dataframe thead th {\n",
       "        text-align: right;\n",
       "    }\n",
       "</style>\n",
       "<table border=\"1\" class=\"dataframe\">\n",
       "  <thead>\n",
       "    <tr style=\"text-align: right;\">\n",
       "      <th></th>\n",
       "      <th>unnamed: 0</th>\n",
       "      <th>country</th>\n",
       "      <th>energy_type</th>\n",
       "      <th>year</th>\n",
       "      <th>energy_consumption</th>\n",
       "      <th>energy_production</th>\n",
       "      <th>gdp</th>\n",
       "      <th>population</th>\n",
       "      <th>energy_intensity_per_capita</th>\n",
       "      <th>energy_intensity_by_gdp</th>\n",
       "      <th>co2_emission</th>\n",
       "    </tr>\n",
       "  </thead>\n",
       "  <tbody>\n",
       "    <tr>\n",
       "      <th>54061</th>\n",
       "      <td>54061</td>\n",
       "      <td>Afghanistan</td>\n",
       "      <td>coal</td>\n",
       "      <td>2019</td>\n",
       "      <td>0.044564</td>\n",
       "      <td>0.042336</td>\n",
       "      <td>79.45460</td>\n",
       "      <td>38050.9000</td>\n",
       "      <td>3.225901</td>\n",
       "      <td>1.544888</td>\n",
       "      <td>4.752619</td>\n",
       "    </tr>\n",
       "    <tr>\n",
       "      <th>54067</th>\n",
       "      <td>54067</td>\n",
       "      <td>Albania</td>\n",
       "      <td>coal</td>\n",
       "      <td>2019</td>\n",
       "      <td>0.002494</td>\n",
       "      <td>0.000089</td>\n",
       "      <td>38.26840</td>\n",
       "      <td>2879.9200</td>\n",
       "      <td>38.455319</td>\n",
       "      <td>2.893987</td>\n",
       "      <td>0.204336</td>\n",
       "    </tr>\n",
       "    <tr>\n",
       "      <th>54073</th>\n",
       "      <td>54073</td>\n",
       "      <td>Algeria</td>\n",
       "      <td>coal</td>\n",
       "      <td>2019</td>\n",
       "      <td>0.000405</td>\n",
       "      <td>0.000000</td>\n",
       "      <td>509.06600</td>\n",
       "      <td>43030.4000</td>\n",
       "      <td>61.433374</td>\n",
       "      <td>5.192849</td>\n",
       "      <td>0.232647</td>\n",
       "    </tr>\n",
       "    <tr>\n",
       "      <th>54085</th>\n",
       "      <td>54085</td>\n",
       "      <td>Angola</td>\n",
       "      <td>coal</td>\n",
       "      <td>2019</td>\n",
       "      <td>0.000000</td>\n",
       "      <td>0.000000</td>\n",
       "      <td>193.82600</td>\n",
       "      <td>31849.8000</td>\n",
       "      <td>11.693253</td>\n",
       "      <td>1.921454</td>\n",
       "      <td>0.000000</td>\n",
       "    </tr>\n",
       "    <tr>\n",
       "      <th>54097</th>\n",
       "      <td>54097</td>\n",
       "      <td>Antigua and Barbuda</td>\n",
       "      <td>coal</td>\n",
       "      <td>2019</td>\n",
       "      <td>0.000000</td>\n",
       "      <td>0.000000</td>\n",
       "      <td>2.12893</td>\n",
       "      <td>97.0566</td>\n",
       "      <td>107.154033</td>\n",
       "      <td>4.885086</td>\n",
       "      <td>0.000000</td>\n",
       "    </tr>\n",
       "    <tr>\n",
       "      <th>...</th>\n",
       "      <td>...</td>\n",
       "      <td>...</td>\n",
       "      <td>...</td>\n",
       "      <td>...</td>\n",
       "      <td>...</td>\n",
       "      <td>...</td>\n",
       "      <td>...</td>\n",
       "      <td>...</td>\n",
       "      <td>...</td>\n",
       "      <td>...</td>\n",
       "      <td>...</td>\n",
       "    </tr>\n",
       "    <tr>\n",
       "      <th>55399</th>\n",
       "      <td>55399</td>\n",
       "      <td>Venezuela</td>\n",
       "      <td>coal</td>\n",
       "      <td>2019</td>\n",
       "      <td>0.001117</td>\n",
       "      <td>0.012014</td>\n",
       "      <td>190.14720</td>\n",
       "      <td>28515.8500</td>\n",
       "      <td>85.828574</td>\n",
       "      <td>12.871474</td>\n",
       "      <td>0.127186</td>\n",
       "    </tr>\n",
       "    <tr>\n",
       "      <th>55405</th>\n",
       "      <td>55405</td>\n",
       "      <td>Vietnam</td>\n",
       "      <td>coal</td>\n",
       "      <td>2019</td>\n",
       "      <td>1.647620</td>\n",
       "      <td>1.202316</td>\n",
       "      <td>915.50400</td>\n",
       "      <td>96425.9000</td>\n",
       "      <td>36.391525</td>\n",
       "      <td>3.832955</td>\n",
       "      <td>159.987205</td>\n",
       "    </tr>\n",
       "    <tr>\n",
       "      <th>55423</th>\n",
       "      <td>55423</td>\n",
       "      <td>Yemen</td>\n",
       "      <td>coal</td>\n",
       "      <td>2019</td>\n",
       "      <td>0.000851</td>\n",
       "      <td>0.000000</td>\n",
       "      <td>53.08380</td>\n",
       "      <td>29162.2000</td>\n",
       "      <td>5.452938</td>\n",
       "      <td>2.995635</td>\n",
       "      <td>0.221373</td>\n",
       "    </tr>\n",
       "    <tr>\n",
       "      <th>55429</th>\n",
       "      <td>55429</td>\n",
       "      <td>Zambia</td>\n",
       "      <td>coal</td>\n",
       "      <td>2019</td>\n",
       "      <td>0.034151</td>\n",
       "      <td>0.024538</td>\n",
       "      <td>247.18190</td>\n",
       "      <td>17873.8500</td>\n",
       "      <td>11.586567</td>\n",
       "      <td>0.837831</td>\n",
       "      <td>2.894102</td>\n",
       "    </tr>\n",
       "    <tr>\n",
       "      <th>55435</th>\n",
       "      <td>55435</td>\n",
       "      <td>Zimbabwe</td>\n",
       "      <td>coal</td>\n",
       "      <td>2019</td>\n",
       "      <td>0.045064</td>\n",
       "      <td>0.075963</td>\n",
       "      <td>37.62040</td>\n",
       "      <td>14654.2000</td>\n",
       "      <td>11.508701</td>\n",
       "      <td>4.482962</td>\n",
       "      <td>4.586869</td>\n",
       "    </tr>\n",
       "  </tbody>\n",
       "</table>\n",
       "<p>192 rows × 11 columns</p>\n",
       "</div>"
      ],
      "text/plain": [
       "       unnamed: 0              country energy_type  year  energy_consumption  \\\n",
       "54061       54061          Afghanistan        coal  2019            0.044564   \n",
       "54067       54067              Albania        coal  2019            0.002494   \n",
       "54073       54073              Algeria        coal  2019            0.000405   \n",
       "54085       54085               Angola        coal  2019            0.000000   \n",
       "54097       54097  Antigua and Barbuda        coal  2019            0.000000   \n",
       "...           ...                  ...         ...   ...                 ...   \n",
       "55399       55399            Venezuela        coal  2019            0.001117   \n",
       "55405       55405              Vietnam        coal  2019            1.647620   \n",
       "55423       55423                Yemen        coal  2019            0.000851   \n",
       "55429       55429               Zambia        coal  2019            0.034151   \n",
       "55435       55435             Zimbabwe        coal  2019            0.045064   \n",
       "\n",
       "       energy_production        gdp  population  energy_intensity_per_capita  \\\n",
       "54061           0.042336   79.45460  38050.9000                     3.225901   \n",
       "54067           0.000089   38.26840   2879.9200                    38.455319   \n",
       "54073           0.000000  509.06600  43030.4000                    61.433374   \n",
       "54085           0.000000  193.82600  31849.8000                    11.693253   \n",
       "54097           0.000000    2.12893     97.0566                   107.154033   \n",
       "...                  ...        ...         ...                          ...   \n",
       "55399           0.012014  190.14720  28515.8500                    85.828574   \n",
       "55405           1.202316  915.50400  96425.9000                    36.391525   \n",
       "55423           0.000000   53.08380  29162.2000                     5.452938   \n",
       "55429           0.024538  247.18190  17873.8500                    11.586567   \n",
       "55435           0.075963   37.62040  14654.2000                    11.508701   \n",
       "\n",
       "       energy_intensity_by_gdp  co2_emission  \n",
       "54061                 1.544888      4.752619  \n",
       "54067                 2.893987      0.204336  \n",
       "54073                 5.192849      0.232647  \n",
       "54085                 1.921454      0.000000  \n",
       "54097                 4.885086      0.000000  \n",
       "...                        ...           ...  \n",
       "55399                12.871474      0.127186  \n",
       "55405                 3.832955    159.987205  \n",
       "55423                 2.995635      0.221373  \n",
       "55429                 0.837831      2.894102  \n",
       "55435                 4.482962      4.586869  \n",
       "\n",
       "[192 rows x 11 columns]"
      ]
     },
     "execution_count": 87,
     "metadata": {},
     "output_type": "execute_result"
    }
   ],
   "source": [
    "df"
   ]
  },
  {
   "cell_type": "code",
   "execution_count": 88,
   "id": "9383c0d5",
   "metadata": {},
   "outputs": [
    {
     "data": {
      "text/plain": [
       "0.234329262922345"
      ]
     },
     "execution_count": 88,
     "metadata": {},
     "output_type": "execute_result"
    }
   ],
   "source": [
    "df['energy_consumption'].mean()"
   ]
  },
  {
   "cell_type": "markdown",
   "id": "c952c70c",
   "metadata": {},
   "source": [
    "Нашли среднее значение по потреблению угля"
   ]
  },
  {
   "cell_type": "markdown",
   "id": "b2fa185f",
   "metadata": {},
   "source": [
    "Разобьем данные на 2 группы:\n",
    "\n",
    "    0 - те, кто потребляют уголь меньше среднего\n",
    "    1 - те, кто потребляют уголь больше среднего"
   ]
  },
  {
   "cell_type": "code",
   "execution_count": 89,
   "id": "f54be3ff",
   "metadata": {},
   "outputs": [
    {
     "data": {
      "text/html": [
       "<div>\n",
       "<style scoped>\n",
       "    .dataframe tbody tr th:only-of-type {\n",
       "        vertical-align: middle;\n",
       "    }\n",
       "\n",
       "    .dataframe tbody tr th {\n",
       "        vertical-align: top;\n",
       "    }\n",
       "\n",
       "    .dataframe thead th {\n",
       "        text-align: right;\n",
       "    }\n",
       "</style>\n",
       "<table border=\"1\" class=\"dataframe\">\n",
       "  <thead>\n",
       "    <tr style=\"text-align: right;\">\n",
       "      <th></th>\n",
       "      <th>unnamed: 0</th>\n",
       "      <th>country</th>\n",
       "      <th>energy_type</th>\n",
       "      <th>year</th>\n",
       "      <th>energy_consumption</th>\n",
       "      <th>energy_production</th>\n",
       "      <th>gdp</th>\n",
       "      <th>population</th>\n",
       "      <th>energy_intensity_per_capita</th>\n",
       "      <th>energy_intensity_by_gdp</th>\n",
       "      <th>co2_emission</th>\n",
       "      <th>consumption</th>\n",
       "    </tr>\n",
       "  </thead>\n",
       "  <tbody>\n",
       "    <tr>\n",
       "      <th>54061</th>\n",
       "      <td>54061</td>\n",
       "      <td>Afghanistan</td>\n",
       "      <td>coal</td>\n",
       "      <td>2019</td>\n",
       "      <td>0.044564</td>\n",
       "      <td>0.042336</td>\n",
       "      <td>79.45460</td>\n",
       "      <td>38050.9000</td>\n",
       "      <td>3.225901</td>\n",
       "      <td>1.544888</td>\n",
       "      <td>4.752619</td>\n",
       "      <td>0</td>\n",
       "    </tr>\n",
       "    <tr>\n",
       "      <th>54067</th>\n",
       "      <td>54067</td>\n",
       "      <td>Albania</td>\n",
       "      <td>coal</td>\n",
       "      <td>2019</td>\n",
       "      <td>0.002494</td>\n",
       "      <td>0.000089</td>\n",
       "      <td>38.26840</td>\n",
       "      <td>2879.9200</td>\n",
       "      <td>38.455319</td>\n",
       "      <td>2.893987</td>\n",
       "      <td>0.204336</td>\n",
       "      <td>0</td>\n",
       "    </tr>\n",
       "    <tr>\n",
       "      <th>54073</th>\n",
       "      <td>54073</td>\n",
       "      <td>Algeria</td>\n",
       "      <td>coal</td>\n",
       "      <td>2019</td>\n",
       "      <td>0.000405</td>\n",
       "      <td>0.000000</td>\n",
       "      <td>509.06600</td>\n",
       "      <td>43030.4000</td>\n",
       "      <td>61.433374</td>\n",
       "      <td>5.192849</td>\n",
       "      <td>0.232647</td>\n",
       "      <td>0</td>\n",
       "    </tr>\n",
       "    <tr>\n",
       "      <th>54085</th>\n",
       "      <td>54085</td>\n",
       "      <td>Angola</td>\n",
       "      <td>coal</td>\n",
       "      <td>2019</td>\n",
       "      <td>0.000000</td>\n",
       "      <td>0.000000</td>\n",
       "      <td>193.82600</td>\n",
       "      <td>31849.8000</td>\n",
       "      <td>11.693253</td>\n",
       "      <td>1.921454</td>\n",
       "      <td>0.000000</td>\n",
       "      <td>0</td>\n",
       "    </tr>\n",
       "    <tr>\n",
       "      <th>54097</th>\n",
       "      <td>54097</td>\n",
       "      <td>Antigua and Barbuda</td>\n",
       "      <td>coal</td>\n",
       "      <td>2019</td>\n",
       "      <td>0.000000</td>\n",
       "      <td>0.000000</td>\n",
       "      <td>2.12893</td>\n",
       "      <td>97.0566</td>\n",
       "      <td>107.154033</td>\n",
       "      <td>4.885086</td>\n",
       "      <td>0.000000</td>\n",
       "      <td>0</td>\n",
       "    </tr>\n",
       "    <tr>\n",
       "      <th>...</th>\n",
       "      <td>...</td>\n",
       "      <td>...</td>\n",
       "      <td>...</td>\n",
       "      <td>...</td>\n",
       "      <td>...</td>\n",
       "      <td>...</td>\n",
       "      <td>...</td>\n",
       "      <td>...</td>\n",
       "      <td>...</td>\n",
       "      <td>...</td>\n",
       "      <td>...</td>\n",
       "      <td>...</td>\n",
       "    </tr>\n",
       "    <tr>\n",
       "      <th>55399</th>\n",
       "      <td>55399</td>\n",
       "      <td>Venezuela</td>\n",
       "      <td>coal</td>\n",
       "      <td>2019</td>\n",
       "      <td>0.001117</td>\n",
       "      <td>0.012014</td>\n",
       "      <td>190.14720</td>\n",
       "      <td>28515.8500</td>\n",
       "      <td>85.828574</td>\n",
       "      <td>12.871474</td>\n",
       "      <td>0.127186</td>\n",
       "      <td>0</td>\n",
       "    </tr>\n",
       "    <tr>\n",
       "      <th>55405</th>\n",
       "      <td>55405</td>\n",
       "      <td>Vietnam</td>\n",
       "      <td>coal</td>\n",
       "      <td>2019</td>\n",
       "      <td>1.647620</td>\n",
       "      <td>1.202316</td>\n",
       "      <td>915.50400</td>\n",
       "      <td>96425.9000</td>\n",
       "      <td>36.391525</td>\n",
       "      <td>3.832955</td>\n",
       "      <td>159.987205</td>\n",
       "      <td>1</td>\n",
       "    </tr>\n",
       "    <tr>\n",
       "      <th>55423</th>\n",
       "      <td>55423</td>\n",
       "      <td>Yemen</td>\n",
       "      <td>coal</td>\n",
       "      <td>2019</td>\n",
       "      <td>0.000851</td>\n",
       "      <td>0.000000</td>\n",
       "      <td>53.08380</td>\n",
       "      <td>29162.2000</td>\n",
       "      <td>5.452938</td>\n",
       "      <td>2.995635</td>\n",
       "      <td>0.221373</td>\n",
       "      <td>0</td>\n",
       "    </tr>\n",
       "    <tr>\n",
       "      <th>55429</th>\n",
       "      <td>55429</td>\n",
       "      <td>Zambia</td>\n",
       "      <td>coal</td>\n",
       "      <td>2019</td>\n",
       "      <td>0.034151</td>\n",
       "      <td>0.024538</td>\n",
       "      <td>247.18190</td>\n",
       "      <td>17873.8500</td>\n",
       "      <td>11.586567</td>\n",
       "      <td>0.837831</td>\n",
       "      <td>2.894102</td>\n",
       "      <td>0</td>\n",
       "    </tr>\n",
       "    <tr>\n",
       "      <th>55435</th>\n",
       "      <td>55435</td>\n",
       "      <td>Zimbabwe</td>\n",
       "      <td>coal</td>\n",
       "      <td>2019</td>\n",
       "      <td>0.045064</td>\n",
       "      <td>0.075963</td>\n",
       "      <td>37.62040</td>\n",
       "      <td>14654.2000</td>\n",
       "      <td>11.508701</td>\n",
       "      <td>4.482962</td>\n",
       "      <td>4.586869</td>\n",
       "      <td>0</td>\n",
       "    </tr>\n",
       "  </tbody>\n",
       "</table>\n",
       "<p>192 rows × 12 columns</p>\n",
       "</div>"
      ],
      "text/plain": [
       "       unnamed: 0              country energy_type  year  energy_consumption  \\\n",
       "54061       54061          Afghanistan        coal  2019            0.044564   \n",
       "54067       54067              Albania        coal  2019            0.002494   \n",
       "54073       54073              Algeria        coal  2019            0.000405   \n",
       "54085       54085               Angola        coal  2019            0.000000   \n",
       "54097       54097  Antigua and Barbuda        coal  2019            0.000000   \n",
       "...           ...                  ...         ...   ...                 ...   \n",
       "55399       55399            Venezuela        coal  2019            0.001117   \n",
       "55405       55405              Vietnam        coal  2019            1.647620   \n",
       "55423       55423                Yemen        coal  2019            0.000851   \n",
       "55429       55429               Zambia        coal  2019            0.034151   \n",
       "55435       55435             Zimbabwe        coal  2019            0.045064   \n",
       "\n",
       "       energy_production        gdp  population  energy_intensity_per_capita  \\\n",
       "54061           0.042336   79.45460  38050.9000                     3.225901   \n",
       "54067           0.000089   38.26840   2879.9200                    38.455319   \n",
       "54073           0.000000  509.06600  43030.4000                    61.433374   \n",
       "54085           0.000000  193.82600  31849.8000                    11.693253   \n",
       "54097           0.000000    2.12893     97.0566                   107.154033   \n",
       "...                  ...        ...         ...                          ...   \n",
       "55399           0.012014  190.14720  28515.8500                    85.828574   \n",
       "55405           1.202316  915.50400  96425.9000                    36.391525   \n",
       "55423           0.000000   53.08380  29162.2000                     5.452938   \n",
       "55429           0.024538  247.18190  17873.8500                    11.586567   \n",
       "55435           0.075963   37.62040  14654.2000                    11.508701   \n",
       "\n",
       "       energy_intensity_by_gdp  co2_emission  consumption  \n",
       "54061                 1.544888      4.752619            0  \n",
       "54067                 2.893987      0.204336            0  \n",
       "54073                 5.192849      0.232647            0  \n",
       "54085                 1.921454      0.000000            0  \n",
       "54097                 4.885086      0.000000            0  \n",
       "...                        ...           ...          ...  \n",
       "55399                12.871474      0.127186            0  \n",
       "55405                 3.832955    159.987205            1  \n",
       "55423                 2.995635      0.221373            0  \n",
       "55429                 0.837831      2.894102            0  \n",
       "55435                 4.482962      4.586869            0  \n",
       "\n",
       "[192 rows x 12 columns]"
      ]
     },
     "execution_count": 89,
     "metadata": {},
     "output_type": "execute_result"
    }
   ],
   "source": [
    "# Добавление столбца 'production' с условными значениями\n",
    "df['consumption'] = df['energy_consumption'].apply(lambda x: 0 if x < 0.24 else 1)\n",
    "df"
   ]
  },
  {
   "cell_type": "code",
   "execution_count": 90,
   "id": "ebbc1bc8",
   "metadata": {},
   "outputs": [
    {
     "name": "stderr",
     "output_type": "stream",
     "text": [
      "C:\\Users\\Elizaveta\\AppData\\Local\\Temp\\ipykernel_2024\\504362208.py:2: FutureWarning: The default value of numeric_only in DataFrame.corr is deprecated. In a future version, it will default to False. Select only valid columns or specify the value of numeric_only to silence this warning.\n",
      "  df_1.corr()\n"
     ]
    },
    {
     "data": {
      "text/html": [
       "<div>\n",
       "<style scoped>\n",
       "    .dataframe tbody tr th:only-of-type {\n",
       "        vertical-align: middle;\n",
       "    }\n",
       "\n",
       "    .dataframe tbody tr th {\n",
       "        vertical-align: top;\n",
       "    }\n",
       "\n",
       "    .dataframe thead th {\n",
       "        text-align: right;\n",
       "    }\n",
       "</style>\n",
       "<table border=\"1\" class=\"dataframe\">\n",
       "  <thead>\n",
       "    <tr style=\"text-align: right;\">\n",
       "      <th></th>\n",
       "      <th>co2_emission</th>\n",
       "      <th>gdp</th>\n",
       "      <th>energy_production</th>\n",
       "      <th>consumption</th>\n",
       "    </tr>\n",
       "  </thead>\n",
       "  <tbody>\n",
       "    <tr>\n",
       "      <th>co2_emission</th>\n",
       "      <td>1.000000</td>\n",
       "      <td>0.745978</td>\n",
       "      <td>0.598395</td>\n",
       "      <td>0.695202</td>\n",
       "    </tr>\n",
       "    <tr>\n",
       "      <th>gdp</th>\n",
       "      <td>0.745978</td>\n",
       "      <td>1.000000</td>\n",
       "      <td>0.400886</td>\n",
       "      <td>0.651758</td>\n",
       "    </tr>\n",
       "    <tr>\n",
       "      <th>energy_production</th>\n",
       "      <td>0.598395</td>\n",
       "      <td>0.400886</td>\n",
       "      <td>1.000000</td>\n",
       "      <td>0.437123</td>\n",
       "    </tr>\n",
       "    <tr>\n",
       "      <th>consumption</th>\n",
       "      <td>0.695202</td>\n",
       "      <td>0.651758</td>\n",
       "      <td>0.437123</td>\n",
       "      <td>1.000000</td>\n",
       "    </tr>\n",
       "  </tbody>\n",
       "</table>\n",
       "</div>"
      ],
      "text/plain": [
       "                   co2_emission       gdp  energy_production  consumption\n",
       "co2_emission           1.000000  0.745978           0.598395     0.695202\n",
       "gdp                    0.745978  1.000000           0.400886     0.651758\n",
       "energy_production      0.598395  0.400886           1.000000     0.437123\n",
       "consumption            0.695202  0.651758           0.437123     1.000000"
      ]
     },
     "execution_count": 90,
     "metadata": {},
     "output_type": "execute_result"
    }
   ],
   "source": [
    "df_1 = df[['country', 'co2_emission', 'gdp', 'energy_production', 'consumption']]\n",
    "df_1.corr()"
   ]
  },
  {
   "cell_type": "code",
   "execution_count": 91,
   "id": "2f3f56c2",
   "metadata": {},
   "outputs": [
    {
     "data": {
      "text/html": [
       "<table class=\"simpletable\">\n",
       "<caption>OLS Regression Results</caption>\n",
       "<tr>\n",
       "  <th>Dep. Variable:</th>      <td>co2_emission</td>   <th>  R-squared:         </th> <td>   0.703</td>\n",
       "</tr>\n",
       "<tr>\n",
       "  <th>Model:</th>                   <td>OLS</td>       <th>  Adj. R-squared:    </th> <td>   0.698</td>\n",
       "</tr>\n",
       "<tr>\n",
       "  <th>Method:</th>             <td>Least Squares</td>  <th>  F-statistic:       </th> <td>   148.3</td>\n",
       "</tr>\n",
       "<tr>\n",
       "  <th>Date:</th>             <td>Mon, 25 Dec 2023</td> <th>  Prob (F-statistic):</th> <td>2.54e-49</td>\n",
       "</tr>\n",
       "<tr>\n",
       "  <th>Time:</th>                 <td>23:08:31</td>     <th>  Log-Likelihood:    </th> <td> -967.74</td>\n",
       "</tr>\n",
       "<tr>\n",
       "  <th>No. Observations:</th>      <td>   192</td>      <th>  AIC:               </th> <td>   1943.</td>\n",
       "</tr>\n",
       "<tr>\n",
       "  <th>Df Residuals:</th>          <td>   188</td>      <th>  BIC:               </th> <td>   1957.</td>\n",
       "</tr>\n",
       "<tr>\n",
       "  <th>Df Model:</th>              <td>     3</td>      <th>                     </th>     <td> </td>   \n",
       "</tr>\n",
       "<tr>\n",
       "  <th>Covariance Type:</th>      <td>nonrobust</td>    <th>                     </th>     <td> </td>   \n",
       "</tr>\n",
       "</table>\n",
       "<table class=\"simpletable\">\n",
       "<tr>\n",
       "          <td></td>             <th>coef</th>     <th>std err</th>      <th>t</th>      <th>P>|t|</th>  <th>[0.025</th>    <th>0.975]</th>  \n",
       "</tr>\n",
       "<tr>\n",
       "  <th>Intercept</th>         <td>   -4.3537</td> <td>    3.062</td> <td>   -1.422</td> <td> 0.157</td> <td>  -10.395</td> <td>    1.688</td>\n",
       "</tr>\n",
       "<tr>\n",
       "  <th>gdp</th>               <td>    0.0387</td> <td>    0.005</td> <td>    8.438</td> <td> 0.000</td> <td>    0.030</td> <td>    0.048</td>\n",
       "</tr>\n",
       "<tr>\n",
       "  <th>energy_production</th> <td>   13.4945</td> <td>    2.019</td> <td>    6.684</td> <td> 0.000</td> <td>    9.512</td> <td>   17.477</td>\n",
       "</tr>\n",
       "<tr>\n",
       "  <th>consumption</th>       <td>   52.0588</td> <td>   10.378</td> <td>    5.016</td> <td> 0.000</td> <td>   31.586</td> <td>   72.532</td>\n",
       "</tr>\n",
       "</table>\n",
       "<table class=\"simpletable\">\n",
       "<tr>\n",
       "  <th>Omnibus:</th>       <td>101.084</td> <th>  Durbin-Watson:     </th> <td>   1.674</td> \n",
       "</tr>\n",
       "<tr>\n",
       "  <th>Prob(Omnibus):</th> <td> 0.000</td>  <th>  Jarque-Bera (JB):  </th> <td>1327.783</td> \n",
       "</tr>\n",
       "<tr>\n",
       "  <th>Skew:</th>          <td> 1.618</td>  <th>  Prob(JB):          </th> <td>4.74e-289</td>\n",
       "</tr>\n",
       "<tr>\n",
       "  <th>Kurtosis:</th>      <td>15.470</td>  <th>  Cond. No.          </th> <td>3.38e+03</td> \n",
       "</tr>\n",
       "</table><br/><br/>Notes:<br/>[1] Standard Errors assume that the covariance matrix of the errors is correctly specified.<br/>[2] The condition number is large, 3.38e+03. This might indicate that there are<br/>strong multicollinearity or other numerical problems."
      ],
      "text/latex": [
       "\\begin{center}\n",
       "\\begin{tabular}{lclc}\n",
       "\\toprule\n",
       "\\textbf{Dep. Variable:}     &  co2\\_emission   & \\textbf{  R-squared:         } &     0.703   \\\\\n",
       "\\textbf{Model:}             &       OLS        & \\textbf{  Adj. R-squared:    } &     0.698   \\\\\n",
       "\\textbf{Method:}            &  Least Squares   & \\textbf{  F-statistic:       } &     148.3   \\\\\n",
       "\\textbf{Date:}              & Mon, 25 Dec 2023 & \\textbf{  Prob (F-statistic):} &  2.54e-49   \\\\\n",
       "\\textbf{Time:}              &     23:08:31     & \\textbf{  Log-Likelihood:    } &   -967.74   \\\\\n",
       "\\textbf{No. Observations:}  &         192      & \\textbf{  AIC:               } &     1943.   \\\\\n",
       "\\textbf{Df Residuals:}      &         188      & \\textbf{  BIC:               } &     1957.   \\\\\n",
       "\\textbf{Df Model:}          &           3      & \\textbf{                     } &             \\\\\n",
       "\\textbf{Covariance Type:}   &    nonrobust     & \\textbf{                     } &             \\\\\n",
       "\\bottomrule\n",
       "\\end{tabular}\n",
       "\\begin{tabular}{lcccccc}\n",
       "                            & \\textbf{coef} & \\textbf{std err} & \\textbf{t} & \\textbf{P$> |$t$|$} & \\textbf{[0.025} & \\textbf{0.975]}  \\\\\n",
       "\\midrule\n",
       "\\textbf{Intercept}          &      -4.3537  &        3.062     &    -1.422  &         0.157        &      -10.395    &        1.688     \\\\\n",
       "\\textbf{gdp}                &       0.0387  &        0.005     &     8.438  &         0.000        &        0.030    &        0.048     \\\\\n",
       "\\textbf{energy\\_production} &      13.4945  &        2.019     &     6.684  &         0.000        &        9.512    &       17.477     \\\\\n",
       "\\textbf{consumption}        &      52.0588  &       10.378     &     5.016  &         0.000        &       31.586    &       72.532     \\\\\n",
       "\\bottomrule\n",
       "\\end{tabular}\n",
       "\\begin{tabular}{lclc}\n",
       "\\textbf{Omnibus:}       & 101.084 & \\textbf{  Durbin-Watson:     } &     1.674  \\\\\n",
       "\\textbf{Prob(Omnibus):} &   0.000 & \\textbf{  Jarque-Bera (JB):  } &  1327.783  \\\\\n",
       "\\textbf{Skew:}          &   1.618 & \\textbf{  Prob(JB):          } & 4.74e-289  \\\\\n",
       "\\textbf{Kurtosis:}      &  15.470 & \\textbf{  Cond. No.          } &  3.38e+03  \\\\\n",
       "\\bottomrule\n",
       "\\end{tabular}\n",
       "%\\caption{OLS Regression Results}\n",
       "\\end{center}\n",
       "\n",
       "Notes: \\newline\n",
       " [1] Standard Errors assume that the covariance matrix of the errors is correctly specified. \\newline\n",
       " [2] The condition number is large, 3.38e+03. This might indicate that there are \\newline\n",
       " strong multicollinearity or other numerical problems."
      ],
      "text/plain": [
       "<class 'statsmodels.iolib.summary.Summary'>\n",
       "\"\"\"\n",
       "                            OLS Regression Results                            \n",
       "==============================================================================\n",
       "Dep. Variable:           co2_emission   R-squared:                       0.703\n",
       "Model:                            OLS   Adj. R-squared:                  0.698\n",
       "Method:                 Least Squares   F-statistic:                     148.3\n",
       "Date:                Mon, 25 Dec 2023   Prob (F-statistic):           2.54e-49\n",
       "Time:                        23:08:31   Log-Likelihood:                -967.74\n",
       "No. Observations:                 192   AIC:                             1943.\n",
       "Df Residuals:                     188   BIC:                             1957.\n",
       "Df Model:                           3                                         \n",
       "Covariance Type:            nonrobust                                         \n",
       "=====================================================================================\n",
       "                        coef    std err          t      P>|t|      [0.025      0.975]\n",
       "-------------------------------------------------------------------------------------\n",
       "Intercept            -4.3537      3.062     -1.422      0.157     -10.395       1.688\n",
       "gdp                   0.0387      0.005      8.438      0.000       0.030       0.048\n",
       "energy_production    13.4945      2.019      6.684      0.000       9.512      17.477\n",
       "consumption          52.0588     10.378      5.016      0.000      31.586      72.532\n",
       "==============================================================================\n",
       "Omnibus:                      101.084   Durbin-Watson:                   1.674\n",
       "Prob(Omnibus):                  0.000   Jarque-Bera (JB):             1327.783\n",
       "Skew:                           1.618   Prob(JB):                    4.74e-289\n",
       "Kurtosis:                      15.470   Cond. No.                     3.38e+03\n",
       "==============================================================================\n",
       "\n",
       "Notes:\n",
       "[1] Standard Errors assume that the covariance matrix of the errors is correctly specified.\n",
       "[2] The condition number is large, 3.38e+03. This might indicate that there are\n",
       "strong multicollinearity or other numerical problems.\n",
       "\"\"\""
      ]
     },
     "execution_count": 91,
     "metadata": {},
     "output_type": "execute_result"
    }
   ],
   "source": [
    "model = ols('co2_emission ~ gdp + energy_production + consumption', data = df_1)\n",
    "res = model.fit()\n",
    "res.summary()"
   ]
  },
  {
   "cell_type": "markdown",
   "id": "993e340d",
   "metadata": {},
   "source": [
    "### Y = -4.3537 + 0.0387X1 + 13.4945X2 + 52.0588Z"
   ]
  },
  {
   "cell_type": "markdown",
   "id": "780221b7",
   "metadata": {},
   "source": [
    "При изменении ВВП на 1 млрд. долларов количество выброшенного CO2 изменяется в среднем на 0,0387 млн. тонн в ту же сторону при неизменном объеме производства угля и при условии, что страна не меняла характер потребления угля\n",
    "\n",
    "При изменении объема производства угля на 1 кв. БТЕ количество выброшенного CO2 изменяется в среднем на 13,4945 млн. тонн в ту же сторону при неизменном ВВП и при условии, что страна не меняла характер потребления угля"
   ]
  },
  {
   "cell_type": "markdown",
   "id": "d6d41474",
   "metadata": {},
   "source": [
    "Страна, потребляющая уголь больше среднего, выбрасывает CO2 в среднем на 52.0588 млн. тонн больше, чем страна, потребляющая уголь ниже среднего при неизменном ВВП и производстве угля"
   ]
  },
  {
   "cell_type": "markdown",
   "id": "87cfdb49",
   "metadata": {},
   "source": [
    "F факт = 148.3\n",
    "\n",
    "F табл = 2,65\n",
    "\n",
    "F факт > F крит => Уравнение статистически значимо с вероятностью 95%\t\t\t\t"
   ]
  },
  {
   "cell_type": "markdown",
   "id": "90f0afba",
   "metadata": {},
   "source": [
    "t табл = 1,9719\n",
    "\n",
    "t1 = 8.438\t\n",
    "\n",
    "t2 = 6.684\t\n",
    "\n",
    "tz = 5.016\n",
    "\n",
    "Так как t1, t2 и tz фактические больше, чем t табл => все коэффициенты значимы с вероятностью 0.95"
   ]
  },
  {
   "cell_type": "markdown",
   "id": "327b03e3",
   "metadata": {},
   "source": [
    "### 10. Исследовать остатки на гетероскедастичность для множественной регрессии без фиктивных переменных и с фиктивными переменными"
   ]
  },
  {
   "cell_type": "code",
   "execution_count": 92,
   "id": "ba8d2223",
   "metadata": {},
   "outputs": [
    {
     "name": "stderr",
     "output_type": "stream",
     "text": [
      "C:\\Users\\Elizaveta\\AppData\\Local\\Temp\\ipykernel_2024\\2544732741.py:1: SettingWithCopyWarning: \n",
      "A value is trying to be set on a copy of a slice from a DataFrame.\n",
      "Try using .loc[row_indexer,col_indexer] = value instead\n",
      "\n",
      "See the caveats in the documentation: https://pandas.pydata.org/pandas-docs/stable/user_guide/indexing.html#returning-a-view-versus-a-copy\n",
      "  df_1['co2_emission'] = res.resid\n",
      "C:\\Users\\Elizaveta\\anaconda3\\Lib\\site-packages\\seaborn\\axisgrid.py:2095: UserWarning: The `size` parameter has been renamed to `height`; please update your code.\n",
      "  warnings.warn(msg, UserWarning)\n"
     ]
    },
    {
     "data": {
      "text/plain": [
       "<seaborn.axisgrid.PairGrid at 0x24390794650>"
      ]
     },
     "execution_count": 92,
     "metadata": {},
     "output_type": "execute_result"
    },
    {
     "data": {
      "image/png": "[encoded data removed]",
      "text/plain": [
       "<Figure size 1500x500 with 3 Axes>"
      ]
     },
     "metadata": {},
     "output_type": "display_data"
    }
   ],
   "source": [
    "df_1['co2_emission'] = res.resid\n",
    "\n",
    "sns.pairplot(df_1, y_vars = 'co2_emission', x_vars = ['gdp', 'energy_production', 'consumption'], size = 5, diag_kind=None)"
   ]
  },
  {
   "cell_type": "markdown",
   "id": "d0e70bac",
   "metadata": {},
   "source": [
    "С фиктивными переменными 1 способ (тест Уайта)"
   ]
  },
  {
   "cell_type": "code",
   "execution_count": 93,
   "id": "5ed1cdd2",
   "metadata": {},
   "outputs": [],
   "source": [
    "from statsmodels. stats.diagnostic import het_white\n",
    "import statsmodels.api as sm"
   ]
  },
  {
   "cell_type": "code",
   "execution_count": 94,
   "id": "7d1b6bb1",
   "metadata": {},
   "outputs": [],
   "source": [
    "y = df_1['co2_emission']\n",
    "x = df_1[['gdp', 'energy_production', 'consumption']]\n",
    "x = sm.add_constant (x)\n",
    "model = sm. OLS (y, x). fit ()"
   ]
  },
  {
   "cell_type": "code",
   "execution_count": 95,
   "id": "d66035c7",
   "metadata": {},
   "outputs": [
    {
     "name": "stdout",
     "output_type": "stream",
     "text": [
      "{'Test Statistic': 114.41759173926097, 'Test Statistic p-value': 4.696117898410845e-21, 'F-Statistic': 33.735771674415716, 'F-Test p-value': 2.8884698822938627e-32}\n"
     ]
    }
   ],
   "source": [
    "white_test = het_white(model.resid , model. model.exog )\n",
    "labels = ['Test Statistic', 'Test Statistic p-value', 'F-Statistic', 'F-Test p-value']\n",
    "print(dict(zip(labels, white_test)))"
   ]
  },
  {
   "cell_type": "markdown",
   "id": "3c2b6eaf",
   "metadata": {},
   "source": [
    "H0: присутствует гомоскедастичность (остатки равномерно разбросаны)\n",
    "\n",
    "H1: присутствует гетероскедастичность (остатки разбросаны неравномерно)"
   ]
  },
  {
   "cell_type": "markdown",
   "id": "fcd19829",
   "metadata": {},
   "source": [
    "Так как значение p-value < 0.05, отвергаем нулевую гипотезу => гетероскедастичность в данных есть"
   ]
  },
  {
   "cell_type": "markdown",
   "id": "b90d632c",
   "metadata": {},
   "source": [
    "2 способ (тест Бреуша-Пагана)"
   ]
  },
  {
   "cell_type": "code",
   "execution_count": 96,
   "id": "55de48df",
   "metadata": {},
   "outputs": [
    {
     "data": {
      "text/plain": [
       "[('Lagrange multiplier statistic', 89.62694338691844),\n",
       " ('p-value', 2.634406907299848e-19),\n",
       " ('f-value', 54.864257954201896),\n",
       " ('f p-value', 1.6033910807753296e-25)]"
      ]
     },
     "execution_count": 96,
     "metadata": {},
     "output_type": "execute_result"
    }
   ],
   "source": [
    "from statsmodels.compat import lzip\n",
    "import statsmodels.stats.api as sms\n",
    "\n",
    "names = ['Lagrange multiplier statistic', 'p-value',\n",
    " 'f-value', 'f p-value']\n",
    "test = sms.het_breuschpagan(model.resid, model.model.exog)\n",
    "\n",
    "lzip(names, test)"
   ]
  },
  {
   "cell_type": "markdown",
   "id": "b665a91e",
   "metadata": {},
   "source": [
    "H0: присутствует гомоскедастичность (остатки равномерно разбросаны)\n",
    "\n",
    "H1: присутствует гетероскедастичность (остатки разбросаны неравномерно)"
   ]
  },
  {
   "cell_type": "markdown",
   "id": "ac9099f6",
   "metadata": {},
   "source": [
    "Статистика множителя Лагранжа для теста равна 89.63, а значение p-value < 0.05, отвергаем нулевую гипотезу => гетероскедастичность в данных есть"
   ]
  },
  {
   "cell_type": "markdown",
   "id": "9ccabe25",
   "metadata": {},
   "source": [
    "Без фиктивных переменных 1 способ (тест Уайта)"
   ]
  },
  {
   "cell_type": "code",
   "execution_count": 97,
   "id": "9b7b2bd1",
   "metadata": {},
   "outputs": [],
   "source": [
    "y = df_1['co2_emission']\n",
    "x = df_1[['gdp', 'energy_production']]\n",
    "x = sm.add_constant (x)\n",
    "model = sm. OLS (y, x). fit ()"
   ]
  },
  {
   "cell_type": "code",
   "execution_count": 98,
   "id": "3d6a196d",
   "metadata": {},
   "outputs": [
    {
     "name": "stdout",
     "output_type": "stream",
     "text": [
      "{'Test Statistic': 109.81251889395705, 'Test Statistic p-value': 4.488701813704944e-22, 'F-Statistic': 49.703746213909014, 'F-Test p-value': 1.617697204820335e-32}\n"
     ]
    }
   ],
   "source": [
    "white_test = het_white(model.resid , model. model.exog )\n",
    "labels = ['Test Statistic', 'Test Statistic p-value', 'F-Statistic', 'F-Test p-value']\n",
    "print(dict(zip(labels, white_test)))"
   ]
  },
  {
   "cell_type": "markdown",
   "id": "e3443a0b",
   "metadata": {},
   "source": [
    "H0: присутствует гомоскедастичность (остатки равномерно разбросаны)\n",
    "\n",
    "H1: присутствует гетероскедастичность (остатки разбросаны неравномерно)"
   ]
  },
  {
   "cell_type": "markdown",
   "id": "3b412ebd",
   "metadata": {},
   "source": [
    "Так как значение p-value < 0.05, отвергаем нулевую гипотезу => гетероскедастичность в данных есть"
   ]
  },
  {
   "cell_type": "markdown",
   "id": "b646b503",
   "metadata": {},
   "source": [
    "2 способ (тест Бреуша-Пагана)"
   ]
  },
  {
   "cell_type": "code",
   "execution_count": 99,
   "id": "2607ddd5",
   "metadata": {},
   "outputs": [
    {
     "data": {
      "text/plain": [
       "[('Lagrange multiplier statistic', 84.60258220037457),\n",
       " ('p-value', 4.2538551534322517e-19),\n",
       " ('f-value', 74.4426093451502),\n",
       " ('f p-value', 1.435329882643449e-24)]"
      ]
     },
     "execution_count": 99,
     "metadata": {},
     "output_type": "execute_result"
    }
   ],
   "source": [
    "from statsmodels.compat import lzip\n",
    "import statsmodels.stats.api as sms\n",
    "\n",
    "names = ['Lagrange multiplier statistic', 'p-value',\n",
    " 'f-value', 'f p-value']\n",
    "test = sms.het_breuschpagan(model.resid, model.model.exog)\n",
    "\n",
    "lzip(names, test)"
   ]
  },
  {
   "cell_type": "markdown",
   "id": "0a4b5c0c",
   "metadata": {},
   "source": [
    "H0: присутствует гомоскедастичность (остатки равномерно разбросаны)\n",
    "\n",
    "H1: присутствует гетероскедастичность (остатки разбросаны неравномерно)"
   ]
  },
  {
   "cell_type": "markdown",
   "id": "19eb87a6",
   "metadata": {},
   "source": [
    "Статистика множителя Лагранжа для теста равна 84.60, а p-value < 0.05, можем отвергнуть нулевую гипотезу, то есть по этому тесту гетероскедастичность в данных есть"
   ]
  },
  {
   "cell_type": "markdown",
   "id": "288dc43c",
   "metadata": {},
   "source": [
    "### 11. Выбрать наилучшее уравнение регрессии. Выполнить точечный и интервальный прогноз."
   ]
  },
  {
   "cell_type": "markdown",
   "id": "68b403a0",
   "metadata": {},
   "source": [
    "### Без фиктивных переменнных\n",
    "Y = -2.4821 + 0.0520*X1 + 16.0576*X2"
   ]
  },
  {
   "cell_type": "markdown",
   "id": "00be920e",
   "metadata": {},
   "source": [
    "Все коэффициенты значимы, уравнение значимо"
   ]
  },
  {
   "cell_type": "markdown",
   "id": "8b0e3bfc",
   "metadata": {},
   "source": [
    "R-squared:0.663\n",
    "\n",
    "R скорр: 0.660"
   ]
  },
  {
   "cell_type": "markdown",
   "id": "14b4525c",
   "metadata": {},
   "source": [
    "### С фиктивными переменнными \n",
    "Y = -4.3537 + 0.0387X1 + 13.4945X2 + 52.0588Z"
   ]
  },
  {
   "cell_type": "markdown",
   "id": "87ebe4b7",
   "metadata": {},
   "source": [
    "Все коэффициенты значимы, уравнение значимо"
   ]
  },
  {
   "cell_type": "markdown",
   "id": "bc9f311c",
   "metadata": {},
   "source": [
    "R-squared: 0.703\n",
    "\n",
    "R скорр: 0.698"
   ]
  },
  {
   "cell_type": "markdown",
   "id": "8638377a",
   "metadata": {},
   "source": [
    "### Берем модель с фиктивной переменной"
   ]
  },
  {
   "cell_type": "markdown",
   "id": "5fb7bb0d",
   "metadata": {},
   "source": [
    "### Точечный прогноз"
   ]
  },
  {
   "cell_type": "code",
   "execution_count": 100,
   "id": "a5b8e8cb",
   "metadata": {},
   "outputs": [
    {
     "data": {
      "text/html": [
       "<div>\n",
       "<style scoped>\n",
       "    .dataframe tbody tr th:only-of-type {\n",
       "        vertical-align: middle;\n",
       "    }\n",
       "\n",
       "    .dataframe tbody tr th {\n",
       "        vertical-align: top;\n",
       "    }\n",
       "\n",
       "    .dataframe thead th {\n",
       "        text-align: right;\n",
       "    }\n",
       "</style>\n",
       "<table border=\"1\" class=\"dataframe\">\n",
       "  <thead>\n",
       "    <tr style=\"text-align: right;\">\n",
       "      <th></th>\n",
       "      <th>country</th>\n",
       "      <th>co2_emission</th>\n",
       "      <th>gdp</th>\n",
       "      <th>energy_production</th>\n",
       "      <th>consumption</th>\n",
       "    </tr>\n",
       "  </thead>\n",
       "  <tbody>\n",
       "    <tr>\n",
       "      <th>54061</th>\n",
       "      <td>Afghanistan</td>\n",
       "      <td>5.461478</td>\n",
       "      <td>79.45460</td>\n",
       "      <td>0.042336</td>\n",
       "      <td>0</td>\n",
       "    </tr>\n",
       "    <tr>\n",
       "      <th>54067</th>\n",
       "      <td>Albania</td>\n",
       "      <td>3.076489</td>\n",
       "      <td>38.26840</td>\n",
       "      <td>0.000089</td>\n",
       "      <td>0</td>\n",
       "    </tr>\n",
       "    <tr>\n",
       "      <th>54073</th>\n",
       "      <td>Algeria</td>\n",
       "      <td>-15.105746</td>\n",
       "      <td>509.06600</td>\n",
       "      <td>0.000000</td>\n",
       "      <td>0</td>\n",
       "    </tr>\n",
       "    <tr>\n",
       "      <th>54085</th>\n",
       "      <td>Angola</td>\n",
       "      <td>-3.144042</td>\n",
       "      <td>193.82600</td>\n",
       "      <td>0.000000</td>\n",
       "      <td>0</td>\n",
       "    </tr>\n",
       "    <tr>\n",
       "      <th>54097</th>\n",
       "      <td>Antigua and Barbuda</td>\n",
       "      <td>4.271329</td>\n",
       "      <td>2.12893</td>\n",
       "      <td>0.000000</td>\n",
       "      <td>0</td>\n",
       "    </tr>\n",
       "    <tr>\n",
       "      <th>...</th>\n",
       "      <td>...</td>\n",
       "      <td>...</td>\n",
       "      <td>...</td>\n",
       "      <td>...</td>\n",
       "      <td>...</td>\n",
       "    </tr>\n",
       "    <tr>\n",
       "      <th>55399</th>\n",
       "      <td>Venezuela</td>\n",
       "      <td>-3.036668</td>\n",
       "      <td>190.14720</td>\n",
       "      <td>0.012014</td>\n",
       "      <td>0</td>\n",
       "    </tr>\n",
       "    <tr>\n",
       "      <th>55405</th>\n",
       "      <td>Vietnam</td>\n",
       "      <td>60.643214</td>\n",
       "      <td>915.50400</td>\n",
       "      <td>1.202316</td>\n",
       "      <td>1</td>\n",
       "    </tr>\n",
       "    <tr>\n",
       "      <th>55423</th>\n",
       "      <td>Yemen</td>\n",
       "      <td>2.521627</td>\n",
       "      <td>53.08380</td>\n",
       "      <td>0.000000</td>\n",
       "      <td>0</td>\n",
       "    </tr>\n",
       "    <tr>\n",
       "      <th>55429</th>\n",
       "      <td>Zambia</td>\n",
       "      <td>-2.645024</td>\n",
       "      <td>247.18190</td>\n",
       "      <td>0.024538</td>\n",
       "      <td>0</td>\n",
       "    </tr>\n",
       "    <tr>\n",
       "      <th>55435</th>\n",
       "      <td>Zimbabwe</td>\n",
       "      <td>6.460207</td>\n",
       "      <td>37.62040</td>\n",
       "      <td>0.075963</td>\n",
       "      <td>0</td>\n",
       "    </tr>\n",
       "  </tbody>\n",
       "</table>\n",
       "<p>192 rows × 5 columns</p>\n",
       "</div>"
      ],
      "text/plain": [
       "                   country  co2_emission        gdp  energy_production  \\\n",
       "54061          Afghanistan      5.461478   79.45460           0.042336   \n",
       "54067              Albania      3.076489   38.26840           0.000089   \n",
       "54073              Algeria    -15.105746  509.06600           0.000000   \n",
       "54085               Angola     -3.144042  193.82600           0.000000   \n",
       "54097  Antigua and Barbuda      4.271329    2.12893           0.000000   \n",
       "...                    ...           ...        ...                ...   \n",
       "55399            Venezuela     -3.036668  190.14720           0.012014   \n",
       "55405              Vietnam     60.643214  915.50400           1.202316   \n",
       "55423                Yemen      2.521627   53.08380           0.000000   \n",
       "55429               Zambia     -2.645024  247.18190           0.024538   \n",
       "55435             Zimbabwe      6.460207   37.62040           0.075963   \n",
       "\n",
       "       consumption  \n",
       "54061            0  \n",
       "54067            0  \n",
       "54073            0  \n",
       "54085            0  \n",
       "54097            0  \n",
       "...            ...  \n",
       "55399            0  \n",
       "55405            1  \n",
       "55423            0  \n",
       "55429            0  \n",
       "55435            0  \n",
       "\n",
       "[192 rows x 5 columns]"
      ]
     },
     "execution_count": 100,
     "metadata": {},
     "output_type": "execute_result"
    }
   ],
   "source": [
    "df_1"
   ]
  },
  {
   "cell_type": "markdown",
   "id": "8e8c48ce",
   "metadata": {},
   "source": [
    "Во Вьетнаме выбросы углерода в 2019 году составили 60.64 миллионов тонн. ВВП составил 915.504 млрд долларов, а производство угля - 1.202 кв. БТЕ, причем потребление больше среднего по миру"
   ]
  },
  {
   "cell_type": "code",
   "execution_count": 101,
   "id": "630e691f",
   "metadata": {},
   "outputs": [
    {
     "data": {
      "text/plain": [
       "99.359758062"
      ]
     },
     "execution_count": 101,
     "metadata": {},
     "output_type": "execute_result"
    }
   ],
   "source": [
    "-4.3537 + 0.0387 * 915.504 + 13.4945 * 1.202316 + 52.0588 * 1"
   ]
  },
  {
   "cell_type": "markdown",
   "id": "4bef89d1",
   "metadata": {},
   "source": [
    "Таким образом, получившиеся значение (99.36 миллионов тонн) в целом приблизительно равно фактическому"
   ]
  },
  {
   "cell_type": "markdown",
   "id": "66db7c90",
   "metadata": {},
   "source": [
    "### Интервальный прогноз"
   ]
  },
  {
   "cell_type": "code",
   "execution_count": 102,
   "id": "2e30b049",
   "metadata": {},
   "outputs": [
    {
     "name": "stderr",
     "output_type": "stream",
     "text": [
      "C:\\Users\\Elizaveta\\AppData\\Local\\Temp\\ipykernel_2024\\1109326447.py:1: SettingWithCopyWarning: \n",
      "A value is trying to be set on a copy of a slice from a DataFrame.\n",
      "Try using .loc[row_indexer,col_indexer] = value instead\n",
      "\n",
      "See the caveats in the documentation: https://pandas.pydata.org/pandas-docs/stable/user_guide/indexing.html#returning-a-view-versus-a-copy\n",
      "  df_1['prediction'] = -4.3537 + 0.0387 * df_1['gdp'] + 13.4945 * df_1['energy_production'] + 52.0588 * df_1['consumption']\n"
     ]
    }
   ],
   "source": [
    "df_1['prediction'] = -4.3537 + 0.0387 * df_1['gdp'] + 13.4945 * df_1['energy_production'] + 52.0588 * df_1['consumption']"
   ]
  },
  {
   "cell_type": "code",
   "execution_count": 103,
   "id": "c1456677",
   "metadata": {},
   "outputs": [
    {
     "data": {
      "text/html": [
       "<div>\n",
       "<style scoped>\n",
       "    .dataframe tbody tr th:only-of-type {\n",
       "        vertical-align: middle;\n",
       "    }\n",
       "\n",
       "    .dataframe tbody tr th {\n",
       "        vertical-align: top;\n",
       "    }\n",
       "\n",
       "    .dataframe thead th {\n",
       "        text-align: right;\n",
       "    }\n",
       "</style>\n",
       "<table border=\"1\" class=\"dataframe\">\n",
       "  <thead>\n",
       "    <tr style=\"text-align: right;\">\n",
       "      <th></th>\n",
       "      <th>country</th>\n",
       "      <th>co2_emission</th>\n",
       "      <th>gdp</th>\n",
       "      <th>energy_production</th>\n",
       "      <th>consumption</th>\n",
       "      <th>prediction</th>\n",
       "    </tr>\n",
       "  </thead>\n",
       "  <tbody>\n",
       "    <tr>\n",
       "      <th>54061</th>\n",
       "      <td>Afghanistan</td>\n",
       "      <td>5.461478</td>\n",
       "      <td>79.45460</td>\n",
       "      <td>0.042336</td>\n",
       "      <td>0</td>\n",
       "      <td>-0.707508</td>\n",
       "    </tr>\n",
       "    <tr>\n",
       "      <th>54067</th>\n",
       "      <td>Albania</td>\n",
       "      <td>3.076489</td>\n",
       "      <td>38.26840</td>\n",
       "      <td>0.000089</td>\n",
       "      <td>0</td>\n",
       "      <td>-2.871512</td>\n",
       "    </tr>\n",
       "    <tr>\n",
       "      <th>54073</th>\n",
       "      <td>Algeria</td>\n",
       "      <td>-15.105746</td>\n",
       "      <td>509.06600</td>\n",
       "      <td>0.000000</td>\n",
       "      <td>0</td>\n",
       "      <td>15.347154</td>\n",
       "    </tr>\n",
       "    <tr>\n",
       "      <th>54085</th>\n",
       "      <td>Angola</td>\n",
       "      <td>-3.144042</td>\n",
       "      <td>193.82600</td>\n",
       "      <td>0.000000</td>\n",
       "      <td>0</td>\n",
       "      <td>3.147366</td>\n",
       "    </tr>\n",
       "    <tr>\n",
       "      <th>54097</th>\n",
       "      <td>Antigua and Barbuda</td>\n",
       "      <td>4.271329</td>\n",
       "      <td>2.12893</td>\n",
       "      <td>0.000000</td>\n",
       "      <td>0</td>\n",
       "      <td>-4.271310</td>\n",
       "    </tr>\n",
       "    <tr>\n",
       "      <th>...</th>\n",
       "      <td>...</td>\n",
       "      <td>...</td>\n",
       "      <td>...</td>\n",
       "      <td>...</td>\n",
       "      <td>...</td>\n",
       "      <td>...</td>\n",
       "    </tr>\n",
       "    <tr>\n",
       "      <th>55399</th>\n",
       "      <td>Venezuela</td>\n",
       "      <td>-3.036668</td>\n",
       "      <td>190.14720</td>\n",
       "      <td>0.012014</td>\n",
       "      <td>0</td>\n",
       "      <td>3.167114</td>\n",
       "    </tr>\n",
       "    <tr>\n",
       "      <th>55405</th>\n",
       "      <td>Vietnam</td>\n",
       "      <td>60.643214</td>\n",
       "      <td>915.50400</td>\n",
       "      <td>1.202316</td>\n",
       "      <td>1</td>\n",
       "      <td>99.359752</td>\n",
       "    </tr>\n",
       "    <tr>\n",
       "      <th>55423</th>\n",
       "      <td>Yemen</td>\n",
       "      <td>2.521627</td>\n",
       "      <td>53.08380</td>\n",
       "      <td>0.000000</td>\n",
       "      <td>0</td>\n",
       "      <td>-2.299357</td>\n",
       "    </tr>\n",
       "    <tr>\n",
       "      <th>55429</th>\n",
       "      <td>Zambia</td>\n",
       "      <td>-2.645024</td>\n",
       "      <td>247.18190</td>\n",
       "      <td>0.024538</td>\n",
       "      <td>0</td>\n",
       "      <td>5.543370</td>\n",
       "    </tr>\n",
       "    <tr>\n",
       "      <th>55435</th>\n",
       "      <td>Zimbabwe</td>\n",
       "      <td>6.460207</td>\n",
       "      <td>37.62040</td>\n",
       "      <td>0.075963</td>\n",
       "      <td>0</td>\n",
       "      <td>-1.872708</td>\n",
       "    </tr>\n",
       "  </tbody>\n",
       "</table>\n",
       "<p>192 rows × 6 columns</p>\n",
       "</div>"
      ],
      "text/plain": [
       "                   country  co2_emission        gdp  energy_production  \\\n",
       "54061          Afghanistan      5.461478   79.45460           0.042336   \n",
       "54067              Albania      3.076489   38.26840           0.000089   \n",
       "54073              Algeria    -15.105746  509.06600           0.000000   \n",
       "54085               Angola     -3.144042  193.82600           0.000000   \n",
       "54097  Antigua and Barbuda      4.271329    2.12893           0.000000   \n",
       "...                    ...           ...        ...                ...   \n",
       "55399            Venezuela     -3.036668  190.14720           0.012014   \n",
       "55405              Vietnam     60.643214  915.50400           1.202316   \n",
       "55423                Yemen      2.521627   53.08380           0.000000   \n",
       "55429               Zambia     -2.645024  247.18190           0.024538   \n",
       "55435             Zimbabwe      6.460207   37.62040           0.075963   \n",
       "\n",
       "       consumption  prediction  \n",
       "54061            0   -0.707508  \n",
       "54067            0   -2.871512  \n",
       "54073            0   15.347154  \n",
       "54085            0    3.147366  \n",
       "54097            0   -4.271310  \n",
       "...            ...         ...  \n",
       "55399            0    3.167114  \n",
       "55405            1   99.359752  \n",
       "55423            0   -2.299357  \n",
       "55429            0    5.543370  \n",
       "55435            0   -1.872708  \n",
       "\n",
       "[192 rows x 6 columns]"
      ]
     },
     "execution_count": 103,
     "metadata": {},
     "output_type": "execute_result"
    }
   ],
   "source": [
    "df_1"
   ]
  },
  {
   "cell_type": "code",
   "execution_count": 104,
   "id": "1995a4a2",
   "metadata": {},
   "outputs": [
    {
     "data": {
      "text/plain": [
       "57.53390899446928"
      ]
     },
     "execution_count": 104,
     "metadata": {},
     "output_type": "execute_result"
    }
   ],
   "source": [
    "se = np.std(df_1['prediction'])\n",
    "se"
   ]
  },
  {
   "cell_type": "code",
   "execution_count": 105,
   "id": "7ff55f87",
   "metadata": {},
   "outputs": [],
   "source": [
    "t = 1.9719"
   ]
  },
  {
   "cell_type": "markdown",
   "id": "171fa478",
   "metadata": {},
   "source": [
    "t табл = 1.9719\n",
    "\n",
    "se(y пр) = 57.53"
   ]
  },
  {
   "cell_type": "markdown",
   "id": "6b017d7d",
   "metadata": {},
   "source": [
    "Нижняя граница"
   ]
  },
  {
   "cell_type": "code",
   "execution_count": 106,
   "id": "00daab25",
   "metadata": {},
   "outputs": [
    {
     "name": "stdout",
     "output_type": "stream",
     "text": [
      "Нижняя граница:  -52.81111514619397\n",
      "Верхняя граница:  174.09111514619397\n"
     ]
    }
   ],
   "source": [
    "print('Нижняя граница: ', 60.64 - t * se)\n",
    "print('Верхняя граница: ',  60.64 + t * se)"
   ]
  },
  {
   "cell_type": "markdown",
   "id": "ccff3d0b",
   "metadata": {},
   "source": [
    "Согласно интервальному прогнозу объем выбросов CO2 для Вьетнама может лежать в пределах от 0 (так как отрицательным не может быть) до 174.09 млн. тонн.\n"
   ]
  },
  {
   "cell_type": "code",
   "execution_count": null,
   "id": "5088365e",
   "metadata": {},
   "outputs": [],
   "source": []
  }
 ],
 "metadata": {
  "kernelspec": {
   "display_name": "Python 3 (ipykernel)",
   "language": "python",
   "name": "python3"
  },
  "language_info": {
   "codemirror_mode": {
    "name": "ipython",
    "version": 3
   },
   "file_extension": ".py",
   "mimetype": "text/x-python",
   "name": "python",
   "nbconvert_exporter": "python",
   "pygments_lexer": "ipython3",
   "version": "3.11.4"
  }
 },
 "nbformat": 4,
 "nbformat_minor": 5
}
